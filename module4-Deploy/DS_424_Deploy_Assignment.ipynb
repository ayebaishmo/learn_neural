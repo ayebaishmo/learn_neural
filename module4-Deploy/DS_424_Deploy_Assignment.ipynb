{
 "cells": [
  {
   "cell_type": "markdown",
   "metadata": {
    "id": "NGGrt9EYlCqY"
   },
   "source": [
    "\n",
    "\n",
    "\n",
    "# *Data Science Unit 4 Sprint 2 Assignment 4*\n",
    "\n",
    "Continue to use TensorFlow Keras & a sample of the [Quickdraw dataset](https://github.com/googlecreativelab/quickdraw-dataset) to build a sketch classification model. The dataset has been sampled to only 10 classes and 10000 observations per class. Apply regularization techniques to your model. \n",
    "\n",
    "**Don't forget to switch to GPU on Colab!**\n",
    "\n",
    "\n",
    "## Objectives \n",
    "\n",
    "In lecture, you were exposed to several regularization techniques: Lp space regularization, Max Norm weight constraints, and dropout regularization.\n",
    "\n",
    "1: Explore the effects of these regularization techniques on model performance and on the learned model weights. \n",
    "\n",
    "2: Review how to save a model and how to retrieve the saved model from a file.\n",
    "\n",
    "\n",
    "\n"
   ]
  },
  {
   "cell_type": "markdown",
   "metadata": {
    "id": "ptJ2b3wk62Ud"
   },
   "source": [
    "#### Import libraries"
   ]
  },
  {
   "cell_type": "code",
   "execution_count": 2,
   "metadata": {
    "executionInfo": {
     "elapsed": 2756,
     "status": "ok",
     "timestamp": 1639160983492,
     "user": {
      "displayName": "Joseph catanzarite",
      "photoUrl": "https://lh3.googleusercontent.com/a-/AOh14GgmMRaw8NgoEDqzevEZ6b18iOYdEH9nWTZeaFBW=s64",
      "userId": "16649206137414945374"
     },
     "user_tz": 480
    },
    "id": "USXjs7Hk71Hy"
   },
   "outputs": [],
   "source": [
    "# native libraries \n",
    "import os\n",
    "from time import time \n",
    "\n",
    "# data analysis libraries \n",
    "import numpy as np\n",
    "import pandas as pd\n",
    "import matplotlib.pyplot as plt\n",
    "import seaborn as sns\n",
    "\n",
    "# deep learning libraries \n",
    "import tensorflow as tf\n",
    "# from keras import Sequential\n",
    "# from keras.callbacks import EarlyStopping, TensorBoard\n",
    "# from keras.layers import Flatten, Dense, Dropout\n",
    "# from keras.layers import ReLU\n",
    "# from keras.initializers import GlorotUniform\n",
    "# from keras.utils import get_file\n",
    "\n",
    "\n",
    "\n",
    "# regularizers \n",
    "# from keras.regularizers import l2, l1\n",
    "# from keras.constraints import max_norm\n",
    "\n",
    "# required for compatibility between sklearn and keras\n",
    "from scikeras.wrappers import KerasClassifier\n",
    "\n",
    "from sklearn.model_selection import GridSearchCV\n",
    "from sklearn.model_selection import train_test_split\n",
    "\n",
    "# native python unit test library\n",
    "from unittest import TestCase\n",
    "\n",
    "%matplotlib inline"
   ]
  },
  {
   "cell_type": "markdown",
   "metadata": {
    "id": "nDjNx1aVBfGU"
   },
   "source": [
    "-----\n",
    "# Part 1: GridSearch Experiments \n",
    "\n",
    "The next set of experiments will involve gridsearching regularization parameter values. \n",
    "\n",
    "The rest of the notebook will actually require very little coding on your part. Instead, the focus is for you to run those gridsearches and answer the questions at the end of each experiment. Those questions are designed to help you capture the insights that there are to learn from each of the experiments. \n",
    "\n",
    "All of the following experiments are designed to help you better understand the relationship between the various regularization techniques and how they affect model performance. \n",
    "\n",
    "\n",
    "### Build Model\n",
    "\n",
    "Let's build out the model that we'll be using all throughout our experiments. \n",
    "\n",
    "Remember that **the whole point of regularization is to prevent overfitting.**\n",
    "\n",
    "\n",
    "![](https://hackernoon.com/hn-images/1*vuZxFMi5fODz2OEcpG-S1g.png)\n",
    "\n",
    "Overfitting happens when our models are too complex, so in order to see a benefit from the use of regularization techniques we need to build a relatively complex model. \n",
    "\n",
    "Having said that, you might not have the computational resource to be able to train a complex model in a reasonable amount of time. So if this describes you, then you might want to consider using `build_simple_model`. Otherwise, use `build_complex_model`. \n",
    "\n",
    "In this notebook, we'll use  `build_complex_model` to run our experiments. \n",
    "\n",
    "**NOTE:** Whichever function you end up using to build a model, take time to read through the code and make sure you understand what is happening. "
   ]
  },
  {
   "cell_type": "markdown",
   "metadata": {
    "id": "BhyxXDgXfuHs"
   },
   "source": [
    "### Load the `quickdraw10` data set\n",
    "using code provided in the Module 3 assignment."
   ]
  },
  {
   "cell_type": "code",
   "execution_count": 1,
   "metadata": {
    "executionInfo": {
     "elapsed": 12,
     "status": "ok",
     "timestamp": 1639160983493,
     "user": {
      "displayName": "Joseph catanzarite",
      "photoUrl": "https://lh3.googleusercontent.com/a-/AOh14GgmMRaw8NgoEDqzevEZ6b18iOYdEH9nWTZeaFBW=s64",
      "userId": "16649206137414945374"
     },
     "user_tz": 480
    },
    "id": "9m7GEmeWfzYr"
   },
   "outputs": [
    {
     "ename": "NameError",
     "evalue": "name 'np' is not defined",
     "output_type": "error",
     "traceback": [
      "\u001b[1;31m---------------------------------------------------------------------------\u001b[0m",
      "\u001b[1;31mNameError\u001b[0m                                 Traceback (most recent call last)",
      "Cell \u001b[1;32mIn[1], line 12\u001b[0m\n\u001b[0;32m      8\u001b[0m     y \u001b[38;5;241m=\u001b[39m data[\u001b[38;5;124m'\u001b[39m\u001b[38;5;124marr_1\u001b[39m\u001b[38;5;124m'\u001b[39m]\n\u001b[0;32m     10\u001b[0m     \u001b[38;5;28;01mreturn\u001b[39;00m train_test_split(X,y, shuffle\u001b[38;5;241m=\u001b[39m\u001b[38;5;28;01mTrue\u001b[39;00m)\n\u001b[1;32m---> 12\u001b[0m X_train, X_test, y_train, y_test \u001b[38;5;241m=\u001b[39m \u001b[43mload_quickdraw10\u001b[49m\u001b[43m(\u001b[49m\u001b[43m)\u001b[49m\n\u001b[0;32m     13\u001b[0m \u001b[38;5;28mprint\u001b[39m(X_train\u001b[38;5;241m.\u001b[39mshape)\n\u001b[0;32m     14\u001b[0m \u001b[38;5;28mprint\u001b[39m(y_train\u001b[38;5;241m.\u001b[39mshape)\n",
      "Cell \u001b[1;32mIn[1], line 3\u001b[0m, in \u001b[0;36mload_quickdraw10\u001b[1;34m()\u001b[0m\n\u001b[0;32m      1\u001b[0m \u001b[38;5;28;01mdef\u001b[39;00m \u001b[38;5;21mload_quickdraw10\u001b[39m():\n\u001b[0;32m      2\u001b[0m     Data_path \u001b[38;5;241m=\u001b[39m \u001b[38;5;124m'\u001b[39m\u001b[38;5;124mC:/Users/ISHMO_CT/Downloads/Bloomtech/learn_neural/module4-Deploy/quickdraw10.npz\u001b[39m\u001b[38;5;124m'\u001b[39m\n\u001b[1;32m----> 3\u001b[0m     data \u001b[38;5;241m=\u001b[39m \u001b[43mnp\u001b[49m\u001b[38;5;241m.\u001b[39mload(Data_path)\n\u001b[0;32m      5\u001b[0m     \u001b[38;5;66;03m# Normalize the image data \u001b[39;00m\n\u001b[0;32m      6\u001b[0m     Max_pixel_value \u001b[38;5;241m=\u001b[39m \u001b[38;5;241m255\u001b[39m\n",
      "\u001b[1;31mNameError\u001b[0m: name 'np' is not defined"
     ]
    }
   ],
   "source": [
    "def load_quickdraw10():\n",
    "    Data_path = 'C:/Users/ISHMO_CT/Downloads/Bloomtech/learn_neural/module4-Deploy/quickdraw10.npz'\n",
    "    data = np.load(Data_path)\n",
    "\n",
    "    # Normalize the image data \n",
    "    Max_pixel_value = 255\n",
    "    X = data['arr_0'] / Max_pixel_value\n",
    "    y = data['arr_1']\n",
    "\n",
    "    return train_test_split(X,y, shuffle=True)\n",
    "\n",
    "X_train, X_test, y_train, y_test = load_quickdraw10()\n",
    "print(X_train.shape)\n",
    "print(y_train.shape)"
   ]
  },
  {
   "cell_type": "markdown",
   "metadata": {
    "id": "X3qyAkpDf2Uz"
   },
   "source": [
    "### Build the model"
   ]
  },
  {
   "cell_type": "code",
   "execution_count": 28,
   "metadata": {
    "id": "Rl7fR1Vvqauv"
   },
   "outputs": [],
   "source": [
    "def build_complex_model(Lp_reg=None, reg_penalty=None, dropout_prob=0.0, maxnorm_wc=None):\n",
    "    \"\"\"\n",
    "    Build and return a regularized 3 hidden layer FCFF model \n",
    "    \n",
    "    Parameters\n",
    "    ----------\n",
    "    Lp_reg: None or object\n",
    "        If object, Lp_reg is either l1 or l2 regularization \n",
    "        If None, that means that l1 or l2 regularization will not be used.\n",
    "     \n",
    "    reg_penalty: None or float\n",
    "        If float, reg_penalty is a value typically between 1.0 and 0.0001\n",
    "        This is the regularization strength for l1 or l2 \n",
    "        \n",
    "        \n",
    "    dropout_prob: float\n",
    "        This is the probability that dropout regularization will exclude a node from a training iteration. \n",
    "        If this value is 0.0, that means that dropout will not be used. \n",
    "        \n",
    "    maxnorm_wc: None or float\n",
    "        If float, maxnorm_wc is the weight constraint that is used for Max Norm regularization\n",
    "        If None, that means that Max Norm regularization will not be used.\n",
    "        \n",
    "        \n",
    "    Return\n",
    "    ------\n",
    "    model: compiled Keras model\n",
    "    \"\"\"\n",
    "\n",
    "    # specify the input size \n",
    "    input_dim =  X_train.shape[1]\n",
    "\n",
    "    # specify the number of neurons in the output layer \n",
    "    n_output = 10\n",
    "\n",
    "    # if reg_type is not None, then pass in the penalty strength to whatever form of Lp space regularization this is \n",
    "    if Lp_reg is not None:\n",
    "        Lp_regularizer = Lp_reg(reg_penalty)\n",
    "    else:\n",
    "        Lp_regularizer = None\n",
    "                \n",
    "    if maxnorm_wc is not None:\n",
    "        wc = tf.keras.constraints.max_norm(maxnorm_wc)\n",
    "    else:\n",
    "        wc = None\n",
    "\n",
    "\n",
    "    # instantiate Sequential class\n",
    "    model = tf.keras.models.Sequential([    \n",
    "\n",
    "    # hidden layer 1\n",
    "    tf.keras.layers.Dense(500, kernel_regularizer=Lp_regularizer , kernel_constraint=wc, input_dim=input_dim), # remember that Keras refers to weight matrix as a kernel, i.e. weights = kernelact func 1\n",
    "    tf.keras.layers.ReLU(negative_slope=0.01),\n",
    "    tf.keras.layers.Dropout(dropout_prob),\n",
    "\n",
    "    # hidden layer 2\n",
    "    tf.keras.layers.Dense(250, kernel_regularizer=Lp_regularizer, kernel_constraint=wc),\n",
    "    # act func 2\n",
    "    tf.keras.layers.ReLU(negative_slope=0.01),\n",
    "    tf.keras.layers.Dropout(dropout_prob),\n",
    "\n",
    "    # hidden layer 3\n",
    "    tf.keras.layers.Dense(100, kernel_regularizer=Lp_regularizer, kernel_constraint=wc),\n",
    "    # act func 3\n",
    "    tf.keras.layers.ReLU(negative_slope=0.01),\n",
    "    tf.keras.layers.Dropout(dropout_prob),\n",
    "\n",
    "    # output layer   \n",
    "    tf.keras.layers.Dense(n_output, activation=\"softmax\")  \n",
    "\n",
    "    ])\n",
    "    # compile model \n",
    "    model.compile(loss=\"sparse_categorical_crossentropy\", \n",
    "                 optimizer=\"adam\", \n",
    "                 metrics=[\"accuracy\"])\n",
    "    \n",
    "    return model"
   ]
  },
  {
   "cell_type": "markdown",
   "metadata": {
    "id": "Tf7sg_qWBfGV"
   },
   "source": [
    "Again, only use `build_simple_model` instead of `build_complex_model` if you're working on a machine with very limited computational resources. "
   ]
  },
  {
   "cell_type": "code",
   "execution_count": 77,
   "metadata": {
    "executionInfo": {
     "elapsed": 10,
     "status": "aborted",
     "timestamp": 1639160983494,
     "user": {
      "displayName": "Joseph catanzarite",
      "photoUrl": "https://lh3.googleusercontent.com/a-/AOh14GgmMRaw8NgoEDqzevEZ6b18iOYdEH9nWTZeaFBW=s64",
      "userId": "16649206137414945374"
     },
     "user_tz": 480
    },
    "id": "2ZDOyeFUBfGV"
   },
   "outputs": [],
   "source": [
    "def build_simple_model(Lp_reg=None, reg_penalty=None, dropout_prob=0, maxnorm_wc=None):\n",
    "    \"\"\"\n",
    "    Build and return a regularized 1 hidden layer FCFF model \n",
    "\n",
    "    Parameters\n",
    "    ----------\n",
    "    Lp_reg: None or object\n",
    "        If object, Lp_reg is either l1 or l2 regularization \n",
    "        If None, that means that l1 or l2 regularization will not be used.\n",
    "\n",
    "    reg_penalty: None or float\n",
    "        If float, reg_penalty is a value typically between 1.0 and 0.0001\n",
    "        This is the regularization strength for l1 or l2 \n",
    "\n",
    "\n",
    "    dropout_prob: float\n",
    "        This is the probability that dropout regularization will exclude a node from a training iteration. \n",
    "        If this value is 0.0, that means that dropout will not be used. \n",
    "\n",
    "    maxnorm_wc: None or float\n",
    "        If float, maxnorm_wc is the weight constraint that is used for Max Norm regularization\n",
    "        If None, that means that Max Norm regularization will not be used.\n",
    "\n",
    "\n",
    "    Return\n",
    "    ------\n",
    "    model: compiled Keras model\n",
    "    \"\"\"\n",
    "\n",
    "   # specify the input size\n",
    "    input_dim = X_train.shape[1]\n",
    "\n",
    "   # specify the number of neurons in the output layer\n",
    "    n_output = 10\n",
    "\n",
    "    if Lp_reg is not None:\n",
    "        Lp_regularizer = Lp_reg(reg_penalty)\n",
    "    else:\n",
    "        Lp_regularizer = None\n",
    "\n",
    "    # instantiate Sequential class\n",
    "    model = tf.keras.models.Sequential([\n",
    "\n",
    "    # hidden layer 1\n",
    "    tf.keras.layers.Dense(128,  kernel_regularizer=Lp_regularizer, kernel_constraint=maxnorm_wc, input_dim=input_dim), # remember that Keras refers to weight matrix as a kernel, i.e. weights = kernel\n",
    "    # act func 1\n",
    "    tf.keras.layers.ReLU(negative_slope=0.01),\n",
    "    tf.keras.layers.Dropout(dropout_prob),\n",
    "\n",
    "    # output layer\n",
    "    tf.keras.layers.Dense(n_output, activation=\"softmax\")\n",
    "\n",
    "    ])\n",
    "    # compile model\n",
    "    model.compile(loss=\"sparse_categorical_crossentropy\",\n",
    "                 optimizer=\"adam\",\n",
    "                 metrics=[\"accuracy\"])\n",
    "\n",
    "    return model"
   ]
  },
  {
   "cell_type": "markdown",
   "metadata": {
    "id": "RIAKpcTEBfGW"
   },
   "source": [
    "Since we'll be using sklearn's `GridsearchCV` class, we need to wrap our Keras models in `KerasClassifier`"
   ]
  },
  {
   "cell_type": "code",
   "execution_count": 78,
   "metadata": {
    "colab": {
     "base_uri": "https://localhost:8080/"
    },
    "executionInfo": {
     "elapsed": 207,
     "status": "ok",
     "timestamp": 1639091862165,
     "user": {
      "displayName": "Joseph catanzarite",
      "photoUrl": "https://lh3.googleusercontent.com/a-/AOh14GgmMRaw8NgoEDqzevEZ6b18iOYdEH9nWTZeaFBW=s64",
      "userId": "16649206137414945374"
     },
     "user_tz": 480
    },
    "id": "IstAk4cgeOsX",
    "outputId": "ab6d12b0-948d-483a-fdfe-c2e8c480b521"
   },
   "outputs": [],
   "source": [
    "# wrap KerasClassifier around build_model for compatibility with sklearn GridsearchCV \n",
    "model = KerasClassifier(build_fn = build_simple_model, Lp_reg=None, reg_penalty=10.0)"
   ]
  },
  {
   "cell_type": "markdown",
   "metadata": {
    "id": "6LJi-YVMBfGW"
   },
   "source": [
    "-------\n",
    "\n",
    "# Experiment 1: Identify the relationship between model performance and L2 penalty strength\n",
    "\n",
    "![](https://www.researchgate.net/publication/334159821/figure/fig1/AS:776025558495234@1562030319993/Ridge-regression-variable-selection.png)\n",
    "\n",
    "_Note: <br>\n",
    "In the right panel of the above diagram, **SSE** <br>\n",
    "stands for \"Sum of Squared Errors\".<br>\n",
    "In the left panel, **ESS** is a typo that should read **SSE**._<br>\n",
    "\n",
    "We are going to run a gridsearch solely on the L2 regularization penalty value and see the effect this has on model performance. \n",
    "\n",
    "By running a gridseach on only a single hyperparameter (while using the same data and model) we can isolate the effect of that hyperparameter. <br><br>\n"
   ]
  },
  {
   "cell_type": "code",
   "execution_count": 80,
   "metadata": {
    "executionInfo": {
     "elapsed": 170,
     "status": "ok",
     "timestamp": 1639092061185,
     "user": {
      "displayName": "Joseph catanzarite",
      "photoUrl": "https://lh3.googleusercontent.com/a-/AOh14GgmMRaw8NgoEDqzevEZ6b18iOYdEH9nWTZeaFBW=s64",
      "userId": "16649206137414945374"
     },
     "user_tz": 480
    },
    "id": "dxJ5Bc6HF2C0"
   },
   "outputs": [],
   "source": [
    "# build out our hyperparameter dictionary \n",
    "las = tf.keras.regularizers.l1\n",
    "las2 = tf.keras.regularizers.l2\n",
    "hyper_parameters = {\n",
    "    # take note that Lp_reg penalty/strength values are in powers of 10 \n",
    "    \"reg_penalty\": [10.0, 1.0, 0.1, 0.01, 0.001, 0.0001, 0.00001], \n",
    "    # Since we only want to test l2, provide l2 as the sole option \n",
    "    \"Lp_reg\": [None, las, las2],\n",
    "    # default is 1, in order to change it we must provide value here because we can't provide a parameter value for model.fit() directly when using gridsearch\n",
    "    # protip: consider changing epochs to 1 if the gridsearch run-time is too long for you\n",
    "    \"epochs\": [2] \n",
    "}"
   ]
  },
  {
   "cell_type": "code",
   "execution_count": 81,
   "metadata": {
    "id": "qMRyjO6Gbl5I"
   },
   "outputs": [
    {
     "name": "stdout",
     "output_type": "stream",
     "text": [
      "Fitting 3 folds for each of 21 candidates, totalling 63 fits\n"
     ]
    }
   ],
   "source": [
    "start=time()\n",
    "# takes about 7 min on Colab with GPU\n",
    "# Create and run Grid Search\n",
    "grid = GridSearchCV(estimator=model, \n",
    "                    param_grid=hyper_parameters, \n",
    "                    n_jobs=-3, \n",
    "                    verbose=1, \n",
    "                    cv=3)\n",
    "\n",
    "grid_result = grid.fit(X_train, y_train)\n",
    "end=time()"
   ]
  },
  {
   "cell_type": "code",
   "execution_count": 36,
   "metadata": {
    "id": "DZb-QpxvBfGX"
   },
   "outputs": [
    {
     "name": "stdout",
     "output_type": "stream",
     "text": [
      "Gridsearch runtime 5.2 mins\n"
     ]
    }
   ],
   "source": [
    "print(\"Gridsearch runtime {0:.3} mins\".format( (end-start)/60 ))"
   ]
  },
  {
   "cell_type": "code",
   "execution_count": 37,
   "metadata": {
    "id": "FS1Vlh21BfGY"
   },
   "outputs": [
    {
     "data": {
      "image/png": "[encoded data removed]",
      "text/plain": [
       "<Figure size 2000x600 with 1 Axes>"
      ]
     },
     "metadata": {},
     "output_type": "display_data"
    }
   ],
   "source": [
    "# use the mean accuracy from the CV splits for determining best model score \n",
    "means = grid_result.cv_results_['mean_test_score']\n",
    "stds = grid_result.cv_results_['std_test_score']\n",
    "params = grid_result.cv_results_['params']\n",
    "\n",
    "# move l2 penalty values outside of dictionary and into a list\n",
    "param_values = [param_dict[\"reg_penalty\"] for param_dict in params]\n",
    "\n",
    "# plot accuracy vs l2_reg_penalty\n",
    "plt.figure(figsize=(20,6))\n",
    "plt.grid()\n",
    "\n",
    "# this plot is using the std of the CV splits to plot error bars however those values are so small that they aren't visable\n",
    "plt.errorbar(param_values, means, yerr=stds, ecolor=\"orange\")\n",
    "plt.xscale(\"log\") # use a log scale for ease of reading, recall that l2_reg_penalty were in powers of 10 \n",
    "plt.title(\"L2 Regularization: Model Accuracy vs L2 Penalty Strength\")\n",
    "plt.ylabel(\"Validation Accuracy\", )\n",
    "plt.xlabel(\"L2 Penalty Strength usng a Log Scale\");"
   ]
  },
  {
   "cell_type": "markdown",
   "metadata": {
    "id": "Vc4hfY52BfGY"
   },
   "source": [
    "### Observations\n",
    "\n",
    "Write down some observations. What do you notice from the plot?"
   ]
  },
  {
   "cell_type": "markdown",
   "metadata": {
    "deletable": false,
    "id": "G0Z92bfrBfGY",
    "nbgrader": {
     "cell_type": "markdown",
     "checksum": "089b55b5a84d9c96c51fd341d9e6c74f",
     "grade": true,
     "grade_id": "cell-010212fc0915b976",
     "locked": false,
     "points": 0,
     "schema_version": 3,
     "solution": true,
     "task": false
    }
   },
   "source": [
    "YOUR ANSWER HERE\n",
    "\n",
    "\n",
    "Observations on L2 Regularization Plot\n",
    "From the plot titled \"L2 Regularization: Model Accuracy vs L2 Penalty Strength,\" we can make the following observations:\n",
    "\n",
    "High Accuracy with Low L2 Penalty:\n",
    "\n",
    "When the L2 penalty strength is very low (between 10−510 −5  and 10−410 −4), the model maintains a high validation accuracy, consistently around 80%. This suggests that a minimal L2 regularization does not significantly affect the model's performance.\n",
    "Decreasing Accuracy with Increasing L2 Penalty:\n",
    "\n",
    "As the L2 penalty strength increases beyond 10−410 −4, the validation accuracy starts to decrease. The decrease is gradual at first but becomes more pronounced as the penalty strength reaches 10−210 −2and beyond.\n",
    "Th e sharpest decline in accuracy occurs as the L2 penalty moves from 10−210 −2 to 10−110 −1 and further to  1 0 0 10  0\n",
    " . The accuracy drops significantly, indicating that too much regularization is harming the model's ability to learn effectively.\n",
    "Over-Regularization:\n",
    "\n",
    "When the L2 penalty strength is very high (around 10010 0\n",
    "  and above), the model's accuracy plummets to around 10%. This indicates that the model is over-regularized and is unable to fit the data well, likely due to excessively constrained weights.\n",
    "Optimal Range:\n",
    "\n",
    "There appears to be an optimal range for L2 penalty strength, somewhere between 10−510 −5  and 10−310 −3\n",
    " , where the model achieves a balance between avoiding overfitting and maintaining good generalization performance.\n",
    "Conclusion\n",
    "From these observations, it is clear that while L2 regularization can help in preventing overfitting, there is a need to carefully tune the penalty strength. Too little regularization might not effectively prevent overfitting, whereas too much regularization can lead to underfitting and significantly degrade model performance. The goal is to find a sweet spot that offers the best trade-off, and in this case, it seems to be within the range of 10−510 −5  to 10−310 −3 ."
   ]
  },
  {
   "cell_type": "markdown",
   "metadata": {
    "id": "qKoqryhBBfGZ"
   },
   "source": [
    "\n",
    "## Compare Weights between the Best Model and a Worse Model \n",
    "\n",
    "Next, we are going to compare the hidden layer weights between the best and worst performing model while taking note of the respective L2 penalty strengths."
   ]
  },
  {
   "cell_type": "code",
   "execution_count": 38,
   "metadata": {
    "id": "4Rb3l6GuBfGZ"
   },
   "outputs": [
    {
     "name": "stderr",
     "output_type": "stream",
     "text": [
      "c:\\Users\\ISHMO_CT\\.virtualenvs\\learn_neural-7s1zIBU3\\Lib\\site-packages\\keras\\src\\layers\\core\\dense.py:87: UserWarning: Do not pass an `input_shape`/`input_dim` argument to a layer. When using Sequential models, prefer using an `Input(shape)` object as the first layer in the model instead.\n",
      "  super().__init__(activity_regularizer=activity_regularizer, **kwargs)\n"
     ]
    }
   ],
   "source": [
    "# get the best l2 penalty term \n",
    "best_lr_penalty = grid_result.best_params_[\"reg_penalty\"]\n",
    "\n",
    "# get the best trained model\n",
    "#     a model that is wrapped in the KerasClassifier wrapper doesn't have a .get_weights() method.\n",
    "#     So this is the workaround to generate a version of the model that does have a .get_weights() method\n",
    "best_model = grid_result.best_estimator_.build_fn(Lp_reg=tf.keras.regularizers.l2, reg_penalty=best_lr_penalty)\n",
    "\n",
    "# get the weights from the best trained model \n",
    "best_weights = best_model.get_weights()"
   ]
  },
  {
   "cell_type": "code",
   "execution_count": 70,
   "metadata": {
    "id": "eFxgfRA4BfGZ"
   },
   "outputs": [
    {
     "name": "stderr",
     "output_type": "stream",
     "text": [
      "c:\\Users\\ISHMO_CT\\.virtualenvs\\learn_neural-7s1zIBU3\\Lib\\site-packages\\keras\\src\\layers\\core\\dense.py:87: UserWarning: Do not pass an `input_shape`/`input_dim` argument to a layer. When using Sequential models, prefer using an `Input(shape)` object as the first layer in the model instead.\n",
      "  super().__init__(activity_regularizer=activity_regularizer, **kwargs)\n"
     ]
    },
    {
     "name": "stdout",
     "output_type": "stream",
     "text": [
      "\u001b[1m2344/2344\u001b[0m \u001b[32m━━━━━━━━━━━━━━━━━━━━\u001b[0m\u001b[37m\u001b[0m \u001b[1m7s\u001b[0m 3ms/step - accuracy: 0.3905 - loss: 115.8263\n"
     ]
    }
   ],
   "source": [
    "# train a model using the l2_reg_penalty value that scored the lowest \n",
    "worse_l2_reg_penalty = 10.0\n",
    "\n",
    "worse_model = build_simple_model(Lp_reg=tf.keras.regularizers.l2, reg_penalty=worse_l2_reg_penalty)\n",
    "\n",
    "# fit model \n",
    "worse_model.fit(X_train, y_train, epochs=1)\n",
    "\n",
    "# get weights from worst performing model \n",
    "worse_weights = worse_model.get_weights()"
   ]
  },
  {
   "cell_type": "markdown",
   "metadata": {
    "id": "ZJHi51iABfGZ"
   },
   "source": [
    "-----\n",
    "## Understanding how Weights and Biases are stored"
   ]
  },
  {
   "cell_type": "markdown",
   "metadata": {
    "id": "dgo_lKxFBfGZ"
   },
   "source": [
    "Let's take a minute to understand that`.get_weights()` returns a list with 8 elements (if you're using `build_complex_model`)."
   ]
  },
  {
   "cell_type": "code",
   "execution_count": 41,
   "metadata": {
    "id": "TMdhtUWRBfGZ"
   },
   "outputs": [
    {
     "data": {
      "text/plain": [
       "4"
      ]
     },
     "execution_count": 41,
     "metadata": {},
     "output_type": "execute_result"
    }
   ],
   "source": [
    "len(best_weights)"
   ]
  },
  {
   "cell_type": "markdown",
   "metadata": {
    "id": "6raIvOpOBfGa"
   },
   "source": [
    "There are **weights matrices and bias vectors between each layer** and we have 5 layers. The last 4 layers are composed of neurons. \n",
    "\n",
    "- Input\n",
    "- Hidden 1\n",
    "- Hidden 2\n",
    "- Hidden 3\n",
    "- Output \n",
    "\n",
    "So we should have a weight matrix and a bias vector from each neuron layer, <br>which accounts for $4 + 4 = 8$ elements in the list.\n",
    "\n",
    "\n",
    "#### Index for Weight Matrices \n",
    "If you index for a weight matrix, you can see its shape and that they are indeed matrices. \n",
    "\n",
    "Notice how you can see the dims of the layers that the matrices are sandwiched between?\n",
    "\n",
    "The input layer has 784 dims and hidden layer 1 has 500 neurons. <br>\n",
    "So the first weight matrix should have a column of weights for each neuron; and each column has 784 weights.\n",
    "Given this understanding, the numbers you see in the shapes of the weight and bias arrays should make sense. "
   ]
  },
  {
   "cell_type": "code",
   "execution_count": 42,
   "metadata": {
    "id": "p8Wmj_pjBfGa"
   },
   "outputs": [
    {
     "data": {
      "text/plain": [
       "(784, 128)"
      ]
     },
     "execution_count": 42,
     "metadata": {},
     "output_type": "execute_result"
    }
   ],
   "source": [
    "# bewteen input and 1st hidden layer\n",
    "best_weights[0].shape"
   ]
  },
  {
   "cell_type": "code",
   "execution_count": 43,
   "metadata": {
    "id": "bRnY8DHHBfGa"
   },
   "outputs": [
    {
     "data": {
      "text/plain": [
       "(128, 10)"
      ]
     },
     "execution_count": 43,
     "metadata": {},
     "output_type": "execute_result"
    }
   ],
   "source": [
    "# bewteen 1st and 2nd hidden layer\n",
    "best_weights[2].shape"
   ]
  },
  {
   "cell_type": "code",
   "execution_count": 47,
   "metadata": {
    "id": "aCQ-QZI4BfGb"
   },
   "outputs": [],
   "source": [
    "# bewteen 2nd and 3rd hidden layer\n",
    "# best_weights[4].shape"
   ]
  },
  {
   "cell_type": "code",
   "execution_count": 48,
   "metadata": {
    "id": "LiD6Ij2BBfGb"
   },
   "outputs": [],
   "source": [
    "# bewteen 3rd hidden layer and output layer\n",
    "# best_weights[6].shape"
   ]
  },
  {
   "cell_type": "markdown",
   "metadata": {
    "id": "v9rAIBBuBfGb"
   },
   "source": [
    "#### Index for the bias vectors\n",
    "\n",
    "The shapes of the bias vectors should exactly match up the dims/nodes of each layer (excluding the input layer). "
   ]
  },
  {
   "cell_type": "code",
   "execution_count": 49,
   "metadata": {
    "id": "j5c97T5NBfGb"
   },
   "outputs": [
    {
     "data": {
      "text/plain": [
       "(128,)"
      ]
     },
     "execution_count": 49,
     "metadata": {},
     "output_type": "execute_result"
    }
   ],
   "source": [
    "# for hidden layer 1 \n",
    "best_weights[1].shape"
   ]
  },
  {
   "cell_type": "code",
   "execution_count": 50,
   "metadata": {
    "id": "YWABwgJgBfGc"
   },
   "outputs": [
    {
     "data": {
      "text/plain": [
       "(10,)"
      ]
     },
     "execution_count": 50,
     "metadata": {},
     "output_type": "execute_result"
    }
   ],
   "source": [
    "# for hidden layer 2 \n",
    "best_weights[3].shape"
   ]
  },
  {
   "cell_type": "code",
   "execution_count": 53,
   "metadata": {
    "id": "juFKoCftBfGc"
   },
   "outputs": [],
   "source": [
    "# for hidden layer 3\n",
    "# best_weights[5].shape"
   ]
  },
  {
   "cell_type": "code",
   "execution_count": 52,
   "metadata": {
    "id": "_uul71OiBfGc"
   },
   "outputs": [],
   "source": [
    "# for output layer\n",
    "# best_weights[7].shape"
   ]
  },
  {
   "cell_type": "markdown",
   "metadata": {
    "id": "7uwdFhiWBfGc"
   },
   "source": [
    "-----\n",
    "\n",
    "### Back to our Analysis of L2 space regularization (also known as Ridge)\n",
    "\n",
    "To gauge the performance effect of L2 regularization, we'll compare the weights for the 1st hidden layer from the best and worst performing models from our hyperparameter search space, as well as with the initial weight values that are randomly sampled from the GlorotUniform distribution.\n",
    "\n",
    "[**Check out the Keras docs for the Dense layer**](https://keras.io/api/layers/core_layers/dense/), you'll see that GlorotUniform is the default weight initializer. \n",
    "\n",
    "Read the docs to figure out how to get the weights from a Keras dense layer.\n",
    "Also have a look at this helpful post on StackOverflow: [**How to view initialized weights (i.e. before training)?**](https://stackoverflow.com/questions/46798708/how-to-view-initialized-weights-i-e-before-training)\n"
   ]
  },
  {
   "cell_type": "markdown",
   "metadata": {
    "id": "UdmuttujBfGd"
   },
   "source": [
    "Before we compare weights, let's take note of the following. \n",
    "\n",
    "Both `best_weights[0]` or `worse_weights[0]` are matrices with shape `(784, 500)`. \n",
    "\n",
    "If we flatten them, then we get `784 * 500 = 392000` weights. What does this mean exactly?\n",
    "\n",
    "Remember that we are working with the Fully Connected Feed-Forward model which looks something like this. \n",
    "\n",
    "![](https://pyimagesearch.com/wp-content/uploads/2016/08/simple_neural_network_header.jpg)\n",
    "\n",
    "In Fully Connected neural network models, the outputs from a layer become the inputs for the next layer. Each output from a layer is passed as an input to all the nodes in next layer.<br>\n",
    "Our input layer has $784$ output weights which are the pixel values in the image. Each neuron (or node) in hidden layer $1$ also has $784$ weights, one for each pixel input.  Hidden layer 1 has $500$ neurons. So the weights are conveniently represented as a **weights matrix** with $784$ rows (one row for each pixel in the input image) and $500$ columns (one column for each neuron in the layer). The $i$th column of the weights matrix holds the $784$ weights $\\textbf{w}_{i}$ belonging to the $i$th neuron in the layer.\n",
    "\n",
    "To keep our analysis simple, we are going to analyze only the weights corresponding to the first neuron in hidden layer $1$, whose weights $\\textbf{w}_{1}$ are the first column of the weight matrix.  <br><br>\n",
    "\n",
    "We will observe the effect of L2 regularization on neuron 1 in hidden layer 1.\n"
   ]
  },
  {
   "cell_type": "code",
   "execution_count": 57,
   "metadata": {},
   "outputs": [
    {
     "name": "stderr",
     "output_type": "stream",
     "text": [
      "WARNING:absl:You are saving your model as an HDF5 file via `model.save()` or `keras.saving.save_model(model)`. This file format is considered legacy. We recommend using instead the native Keras format, e.g. `model.save('my_model.keras')` or `keras.saving.save_model(model, 'my_model.keras')`. \n",
      "WARNING:absl:You are saving your model as an HDF5 file via `model.save()` or `keras.saving.save_model(model)`. This file format is considered legacy. We recommend using instead the native Keras format, e.g. `model.save('my_model.keras')` or `keras.saving.save_model(model, 'my_model.keras')`. \n"
     ]
    }
   ],
   "source": [
    "best_model.save('best_model.h5')\n",
    "worse_model.save('worse_model.h5')"
   ]
  },
  {
   "cell_type": "code",
   "execution_count": 69,
   "metadata": {
    "deletable": false,
    "id": "xomeoSW4BfGd",
    "nbgrader": {
     "cell_type": "code",
     "checksum": "a3f75126a80a74dd71fb0a9ab2b8b89f",
     "grade": false,
     "grade_id": "cell-7882876b8973bc7b",
     "locked": false,
     "schema_version": 3,
     "solution": true,
     "task": false
    }
   },
   "outputs": [
    {
     "name": "stderr",
     "output_type": "stream",
     "text": [
      "WARNING:absl:Compiled the loaded model, but the compiled metrics have yet to be built. `model.compile_metrics` will be empty until you train or evaluate the model.\n"
     ]
    },
    {
     "name": "stderr",
     "output_type": "stream",
     "text": [
      "WARNING:absl:Compiled the loaded model, but the compiled metrics have yet to be built. `model.compile_metrics` will be empty until you train or evaluate the model.\n"
     ]
    },
    {
     "ename": "IndexError",
     "evalue": "list index out of range",
     "output_type": "error",
     "traceback": [
      "\u001b[1;31m---------------------------------------------------------------------------\u001b[0m",
      "\u001b[1;31mIndexError\u001b[0m                                Traceback (most recent call last)",
      "Cell \u001b[1;32mIn[69], line 23\u001b[0m\n\u001b[0;32m     20\u001b[0m     \u001b[38;5;28;01mreturn\u001b[39;00m weights[:, \u001b[38;5;241m0\u001b[39m]\n\u001b[0;32m     22\u001b[0m \u001b[38;5;66;03m# Get the weights for the first neuron in the first hidden layer\u001b[39;00m\n\u001b[1;32m---> 23\u001b[0m best_hidden_weights \u001b[38;5;241m=\u001b[39m \u001b[43mget_first_neuron_weights\u001b[49m\u001b[43m(\u001b[49m\u001b[43mbest_model\u001b[49m\u001b[43m)\u001b[49m\n\u001b[0;32m     24\u001b[0m worse_hidden_weights \u001b[38;5;241m=\u001b[39m get_first_neuron_weights(worse_model)\n\u001b[0;32m     26\u001b[0m \u001b[38;5;66;03m# Initialize GlorotUniform and sample initial weights\u001b[39;00m\n",
      "Cell \u001b[1;32mIn[69], line 19\u001b[0m, in \u001b[0;36mget_first_neuron_weights\u001b[1;34m(model)\u001b[0m\n\u001b[0;32m     16\u001b[0m \u001b[38;5;28;01mdef\u001b[39;00m \u001b[38;5;21mget_first_neuron_weights\u001b[39m(model):\n\u001b[0;32m     17\u001b[0m     \u001b[38;5;66;03m# Assuming 'hidden_layer_1' is the name of the first hidden layer\u001b[39;00m\n\u001b[0;32m     18\u001b[0m     layer \u001b[38;5;241m=\u001b[39m model\u001b[38;5;241m.\u001b[39mget_layer(\u001b[38;5;124m'\u001b[39m\u001b[38;5;124mre_lu_1\u001b[39m\u001b[38;5;124m'\u001b[39m)\n\u001b[1;32m---> 19\u001b[0m     weights \u001b[38;5;241m=\u001b[39m \u001b[43mlayer\u001b[49m\u001b[38;5;241;43m.\u001b[39;49m\u001b[43mget_weights\u001b[49m\u001b[43m(\u001b[49m\u001b[43m)\u001b[49m\u001b[43m[\u001b[49m\u001b[38;5;241;43m0\u001b[39;49m\u001b[43m]\u001b[49m\n\u001b[0;32m     20\u001b[0m     \u001b[38;5;28;01mreturn\u001b[39;00m weights[:, \u001b[38;5;241m0\u001b[39m]\n",
      "\u001b[1;31mIndexError\u001b[0m: list index out of range"
     ]
    }
   ],
   "source": [
    "# index for the 1st column (784 entries) in the 1st hidden layer weights in best_weights and save to best_hidden_weights\n",
    "\n",
    "# index for the 1st column (784 entries) in the 1st hidden layer weights in worse_weights and save to worse_hidden_weights\n",
    "\n",
    "# Keras models randomly samples from the GlorotUniform distribution for the initial values of model weights \n",
    "# instantiate GlorotUniform and sample 784 weights and save to initial_weight_values\n",
    "\n",
    "# Build a data frame with these 3 vectors as columns\n",
    "\n",
    "# YOUR CODE HERE\n",
    "# Load the models (assumed to be saved previously)\n",
    "best_model = tf.keras.models.load_model('best_model.h5')\n",
    "worse_model = tf.keras.models.load_model('worse_model.h5')\n",
    "\n",
    "# Function to get weights of the first neuron in the first hidden layer\n",
    "def get_first_neuron_weights(model):\n",
    "    # Assuming 'hidden_layer_1' is the name of the first hidden layer\n",
    "    layer = model.get_layer('re_lu_1')\n",
    "    weights = layer.get_weights()[0]\n",
    "    return weights[:, 0]\n",
    "\n",
    "# Get the weights for the first neuron in the first hidden layer\n",
    "best_hidden_weights = get_first_neuron_weights(best_model)\n",
    "worse_hidden_weights = get_first_neuron_weights(worse_model)\n",
    "\n",
    "# Initialize GlorotUniform and sample initial weights\n",
    "glorot_uniform = tf.kerasinitializers.GlorotUniform()\n",
    "initial_weights = glorot_uniform(shape=(784,))\n",
    "\n",
    "# Create a DataFrame for comparison\n",
    "weights_df = pd.DataFrame({\n",
    "    'Best Hidden Weights': best_hidden_weights,\n",
    "    'Worse Hidden Weights': worse_hidden_weights,\n",
    "    'Initial Weight Values': initial_weights\n",
    "})\n",
    "\n",
    "print(weights_df.head())\n"
   ]
  },
  {
   "cell_type": "code",
   "execution_count": null,
   "metadata": {
    "id": "zaRHQzP2BfGe"
   },
   "outputs": [],
   "source": [
    "# move all weights to a dataframe for ease of analysis \n",
    "cols = [\"best_hidden_weights\", \"worse_hidden_weights\", \"initial_weight_values\"]\n",
    "data = [best_hidden_weights, worse_hidden_weights, initial_weight_values]\n",
    "df = pd.DataFrame(data=data).T\n",
    "df.columns = cols"
   ]
  },
  {
   "cell_type": "code",
   "execution_count": null,
   "metadata": {
    "id": "GTxYblbIBfGe"
   },
   "outputs": [],
   "source": [
    "# check out the statistics for each weight column \n",
    "df.describe()"
   ]
  },
  {
   "cell_type": "code",
   "execution_count": null,
   "metadata": {
    "id": "4Np8LOGIBfGe"
   },
   "outputs": [],
   "source": [
    "# plot the distributions for each weight column \n",
    "df.hist(figsize=(20,12));"
   ]
  },
  {
   "cell_type": "markdown",
   "metadata": {
    "id": "PAtwX9QfBfGe"
   },
   "source": [
    "## Observations \n",
    "\n",
    "Take a look at the statistical table and the plots. Then answer the following questions. \n",
    "\n",
    "**How do the hidden layer weights from the best performing model compare to the initial weight values?**"
   ]
  },
  {
   "cell_type": "markdown",
   "metadata": {
    "deletable": false,
    "id": "GcB8C891BfGe",
    "nbgrader": {
     "cell_type": "markdown",
     "checksum": "5eacb66f89b216ae3b4bb3c4b7bd6d38",
     "grade": true,
     "grade_id": "cell-6add7cc400c4c716",
     "locked": false,
     "points": 0,
     "schema_version": 3,
     "solution": true,
     "task": false
    }
   },
   "source": [
    "YOUR ANSWER HERE"
   ]
  },
  {
   "cell_type": "markdown",
   "metadata": {
    "id": "6ssnJofqBfGf"
   },
   "source": [
    "**What was the effect of using a small L2 penalty value (regularization constant)?**"
   ]
  },
  {
   "cell_type": "markdown",
   "metadata": {
    "deletable": false,
    "id": "N3PyRkv_BfGf",
    "nbgrader": {
     "cell_type": "markdown",
     "checksum": "92ac1689b72d727ab7f4d261c5e76daa",
     "grade": true,
     "grade_id": "cell-5b4f11bba2d49639",
     "locked": false,
     "points": 0,
     "schema_version": 3,
     "solution": true,
     "task": false
    }
   },
   "source": [
    "YOUR ANSWER HERE"
   ]
  },
  {
   "cell_type": "markdown",
   "metadata": {
    "id": "_dIM4qL5BfGf"
   },
   "source": [
    "**What was the effect of using a large L2 penalty value?**"
   ]
  },
  {
   "cell_type": "markdown",
   "metadata": {
    "deletable": false,
    "id": "yhaLO6-CBfGf",
    "nbgrader": {
     "cell_type": "markdown",
     "checksum": "3048a6d2805f61d6fb58372c42c3ac54",
     "grade": true,
     "grade_id": "cell-0a30b62e5e119555",
     "locked": false,
     "points": 0,
     "schema_version": 3,
     "solution": true,
     "task": false
    }
   },
   "source": [
    "YOUR ANSWER HERE"
   ]
  },
  {
   "cell_type": "markdown",
   "metadata": {
    "id": "8rDYEPbsBfGg"
   },
   "source": [
    "**Given what you know about L2 regularization, are you surprised by these results?**"
   ]
  },
  {
   "cell_type": "markdown",
   "metadata": {
    "deletable": false,
    "id": "m3Nt5LmOBfGg",
    "nbgrader": {
     "cell_type": "markdown",
     "checksum": "d8a2034f67badfe53f601873f7026dc0",
     "grade": true,
     "grade_id": "cell-c04d067161064011",
     "locked": false,
     "points": 0,
     "schema_version": 3,
     "solution": true,
     "task": false
    }
   },
   "source": [
    "YOUR ANSWER HERE"
   ]
  },
  {
   "cell_type": "markdown",
   "metadata": {
    "id": "0SI5IBq8BfGg"
   },
   "source": [
    "----\n",
    "\n",
    "# Experiment 2: Identify the relationship between model performance and Max Norm Weight Constraint\n",
    "\n",
    "![](https://qph.fs.quoracdn.net/main-qimg-9d0dbf8074761b541ba80543ddfc9f73.webp)\n",
    "\n",
    "Recall from lecture that the **norm** of a vector is another word for the **length** of the vector.\n",
    "\n",
    "`MaxNorm` weight constraint puts a limit on the norm of the weight vector.\n",
    "\n",
    "The effect that Lp regularization and `MaxNorm` regularization have on the weights is similar, but they go about it in different ways. \n",
    "\n",
    "While Lp regularization (L1/Lasso and L2/Ridge) shrink the weight values by imposing constraints on their L1 and L2 norms, `MaxNorm` regularization shrinks the weight values by imposing a limit on the norm of a weight vector. Here's how it works: if an update would push the norm of a weight vector above MaxNorm, a scale factor is applied to all the weights so as to shrink the norm back to MaxNorm. \n",
    "\n",
    "In this experiment, we'll run another gridseach, similar to the one we ran for L2 regularization in the previous experiment. This time, we are going to gauge the effect of `MaxNorm` regularization on model performance and the distribution of the learned weights. As in the previous experiment, we will simplify our analysis by focusing on the weights for the first neuron in the first hidden layer."
   ]
  },
  {
   "cell_type": "markdown",
   "metadata": {
    "id": "ChP-sILzBfGg"
   },
   "source": [
    "Since we already built our model, we just need to update the `hyper_parameters` dictionary. "
   ]
  },
  {
   "cell_type": "code",
   "execution_count": 75,
   "metadata": {
    "id": "5xdqcr6WBfGg"
   },
   "outputs": [
    {
     "data": {
      "text/plain": [
       "{'maxnorm_wc': array([ 0.5,  1. ,  1.5,  2. ,  2.5,  3. ,  3.5,  4. ,  4.5,  5. ,  5.5,\n",
       "         6. ,  6.5,  7. ,  7.5,  8. ,  8.5,  9. ,  9.5, 10. ]),\n",
       " 'epochs': [1]}"
      ]
     },
     "execution_count": 75,
     "metadata": {},
     "output_type": "execute_result"
    }
   ],
   "source": [
    "# build out our hyperparameter dictionary \n",
    "hyper_parameters = {\n",
    "    \n",
    "    \"maxnorm_wc\": np.linspace(0.5, 10.0, num=20), \n",
    "    # default is 1, in order to change it we must provide value here because we can't provide a parameter value for model.fit() directly when using gridsearch\n",
    "    # protip: consider changing epochs to 1 if the gridsearche run-time are too long for you    \n",
    "    \"epochs\": [1] \n",
    "}\n",
    "\n",
    "hyper_parameters"
   ]
  },
  {
   "cell_type": "code",
   "execution_count": 76,
   "metadata": {
    "id": "AGQiKwo0BfGh"
   },
   "outputs": [
    {
     "name": "stdout",
     "output_type": "stream",
     "text": [
      "Fitting 5 folds for each of 20 candidates, totalling 100 fits\n"
     ]
    },
    {
     "ename": "ValueError",
     "evalue": "Invalid parameter maxnorm_wc for estimator KerasClassifier.\nThis issue can likely be resolved by setting this parameter in the KerasClassifier constructor:\n`KerasClassifier(maxnorm_wc=0.5)`\nCheck the list of available parameters with `estimator.get_params().keys()`",
     "output_type": "error",
     "traceback": [
      "\u001b[1;31m---------------------------------------------------------------------------\u001b[0m",
      "\u001b[1;31m_RemoteTraceback\u001b[0m                          Traceback (most recent call last)",
      "\u001b[1;31m_RemoteTraceback\u001b[0m: \n\"\"\"\nTraceback (most recent call last):\n  File \"c:\\Users\\ISHMO_CT\\.virtualenvs\\learn_neural-7s1zIBU3\\Lib\\site-packages\\joblib\\externals\\loky\\process_executor.py\", line 463, in _process_worker\n    r = call_item()\n        ^^^^^^^^^^^\n  File \"c:\\Users\\ISHMO_CT\\.virtualenvs\\learn_neural-7s1zIBU3\\Lib\\site-packages\\joblib\\externals\\loky\\process_executor.py\", line 291, in __call__\n    return self.fn(*self.args, **self.kwargs)\n           ^^^^^^^^^^^^^^^^^^^^^^^^^^^^^^^^^^\n  File \"c:\\Users\\ISHMO_CT\\.virtualenvs\\learn_neural-7s1zIBU3\\Lib\\site-packages\\joblib\\parallel.py\", line 598, in __call__\n    return [func(*args, **kwargs)\n           ^^^^^^^^^^^^^^^^^^^^^^\n  File \"c:\\Users\\ISHMO_CT\\.virtualenvs\\learn_neural-7s1zIBU3\\Lib\\site-packages\\joblib\\parallel.py\", line 598, in <listcomp>\n    return [func(*args, **kwargs)\n            ^^^^^^^^^^^^^^^^^^^^^\n  File \"c:\\Users\\ISHMO_CT\\.virtualenvs\\learn_neural-7s1zIBU3\\Lib\\site-packages\\sklearn\\utils\\parallel.py\", line 136, in __call__\n    return self.function(*args, **kwargs)\n           ^^^^^^^^^^^^^^^^^^^^^^^^^^^^^^\n  File \"c:\\Users\\ISHMO_CT\\.virtualenvs\\learn_neural-7s1zIBU3\\Lib\\site-packages\\sklearn\\model_selection\\_validation.py\", line 876, in _fit_and_score\n    estimator = estimator.set_params(**clone(parameters, safe=False))\n                ^^^^^^^^^^^^^^^^^^^^^^^^^^^^^^^^^^^^^^^^^^^^^^^^^^^^^\n  File \"c:\\Users\\ISHMO_CT\\.virtualenvs\\learn_neural-7s1zIBU3\\Lib\\site-packages\\scikeras\\wrappers.py\", line 1175, in set_params\n    raise ValueError(\nValueError: Invalid parameter maxnorm_wc for estimator KerasClassifier.\nThis issue can likely be resolved by setting this parameter in the KerasClassifier constructor:\n`KerasClassifier(maxnorm_wc=0.5)`\nCheck the list of available parameters with `estimator.get_params().keys()`\n\"\"\"",
      "\nThe above exception was the direct cause of the following exception:\n",
      "\u001b[1;31mValueError\u001b[0m                                Traceback (most recent call last)",
      "Cell \u001b[1;32mIn[76], line 8\u001b[0m\n\u001b[0;32m      2\u001b[0m \u001b[38;5;66;03m# Create and run Grid Search\u001b[39;00m\n\u001b[0;32m      3\u001b[0m grid \u001b[38;5;241m=\u001b[39m GridSearchCV(estimator\u001b[38;5;241m=\u001b[39mmodel, \n\u001b[0;32m      4\u001b[0m                     param_grid\u001b[38;5;241m=\u001b[39mhyper_parameters, \n\u001b[0;32m      5\u001b[0m                     n_jobs\u001b[38;5;241m=\u001b[39m\u001b[38;5;241m-\u001b[39m\u001b[38;5;241m2\u001b[39m, \n\u001b[0;32m      6\u001b[0m                     verbose\u001b[38;5;241m=\u001b[39m\u001b[38;5;241m1\u001b[39m)\n\u001b[1;32m----> 8\u001b[0m grid_result \u001b[38;5;241m=\u001b[39m \u001b[43mgrid\u001b[49m\u001b[38;5;241;43m.\u001b[39;49m\u001b[43mfit\u001b[49m\u001b[43m(\u001b[49m\u001b[43mX_train\u001b[49m\u001b[43m,\u001b[49m\u001b[43m \u001b[49m\u001b[43my_train\u001b[49m\u001b[43m)\u001b[49m\n\u001b[0;32m      9\u001b[0m end\u001b[38;5;241m=\u001b[39mtime()\n",
      "File \u001b[1;32mc:\\Users\\ISHMO_CT\\.virtualenvs\\learn_neural-7s1zIBU3\\Lib\\site-packages\\sklearn\\base.py:1473\u001b[0m, in \u001b[0;36m_fit_context.<locals>.decorator.<locals>.wrapper\u001b[1;34m(estimator, *args, **kwargs)\u001b[0m\n\u001b[0;32m   1466\u001b[0m     estimator\u001b[38;5;241m.\u001b[39m_validate_params()\n\u001b[0;32m   1468\u001b[0m \u001b[38;5;28;01mwith\u001b[39;00m config_context(\n\u001b[0;32m   1469\u001b[0m     skip_parameter_validation\u001b[38;5;241m=\u001b[39m(\n\u001b[0;32m   1470\u001b[0m         prefer_skip_nested_validation \u001b[38;5;129;01mor\u001b[39;00m global_skip_validation\n\u001b[0;32m   1471\u001b[0m     )\n\u001b[0;32m   1472\u001b[0m ):\n\u001b[1;32m-> 1473\u001b[0m     \u001b[38;5;28;01mreturn\u001b[39;00m \u001b[43mfit_method\u001b[49m\u001b[43m(\u001b[49m\u001b[43mestimator\u001b[49m\u001b[43m,\u001b[49m\u001b[43m \u001b[49m\u001b[38;5;241;43m*\u001b[39;49m\u001b[43margs\u001b[49m\u001b[43m,\u001b[49m\u001b[43m \u001b[49m\u001b[38;5;241;43m*\u001b[39;49m\u001b[38;5;241;43m*\u001b[39;49m\u001b[43mkwargs\u001b[49m\u001b[43m)\u001b[49m\n",
      "File \u001b[1;32mc:\\Users\\ISHMO_CT\\.virtualenvs\\learn_neural-7s1zIBU3\\Lib\\site-packages\\sklearn\\model_selection\\_search.py:1018\u001b[0m, in \u001b[0;36mBaseSearchCV.fit\u001b[1;34m(self, X, y, **params)\u001b[0m\n\u001b[0;32m   1012\u001b[0m     results \u001b[38;5;241m=\u001b[39m \u001b[38;5;28mself\u001b[39m\u001b[38;5;241m.\u001b[39m_format_results(\n\u001b[0;32m   1013\u001b[0m         all_candidate_params, n_splits, all_out, all_more_results\n\u001b[0;32m   1014\u001b[0m     )\n\u001b[0;32m   1016\u001b[0m     \u001b[38;5;28;01mreturn\u001b[39;00m results\n\u001b[1;32m-> 1018\u001b[0m \u001b[38;5;28;43mself\u001b[39;49m\u001b[38;5;241;43m.\u001b[39;49m\u001b[43m_run_search\u001b[49m\u001b[43m(\u001b[49m\u001b[43mevaluate_candidates\u001b[49m\u001b[43m)\u001b[49m\n\u001b[0;32m   1020\u001b[0m \u001b[38;5;66;03m# multimetric is determined here because in the case of a callable\u001b[39;00m\n\u001b[0;32m   1021\u001b[0m \u001b[38;5;66;03m# self.scoring the return type is only known after calling\u001b[39;00m\n\u001b[0;32m   1022\u001b[0m first_test_score \u001b[38;5;241m=\u001b[39m all_out[\u001b[38;5;241m0\u001b[39m][\u001b[38;5;124m\"\u001b[39m\u001b[38;5;124mtest_scores\u001b[39m\u001b[38;5;124m\"\u001b[39m]\n",
      "File \u001b[1;32mc:\\Users\\ISHMO_CT\\.virtualenvs\\learn_neural-7s1zIBU3\\Lib\\site-packages\\sklearn\\model_selection\\_search.py:1572\u001b[0m, in \u001b[0;36mGridSearchCV._run_search\u001b[1;34m(self, evaluate_candidates)\u001b[0m\n\u001b[0;32m   1570\u001b[0m \u001b[38;5;28;01mdef\u001b[39;00m \u001b[38;5;21m_run_search\u001b[39m(\u001b[38;5;28mself\u001b[39m, evaluate_candidates):\n\u001b[0;32m   1571\u001b[0m \u001b[38;5;250m    \u001b[39m\u001b[38;5;124;03m\"\"\"Search all candidates in param_grid\"\"\"\u001b[39;00m\n\u001b[1;32m-> 1572\u001b[0m     \u001b[43mevaluate_candidates\u001b[49m\u001b[43m(\u001b[49m\u001b[43mParameterGrid\u001b[49m\u001b[43m(\u001b[49m\u001b[38;5;28;43mself\u001b[39;49m\u001b[38;5;241;43m.\u001b[39;49m\u001b[43mparam_grid\u001b[49m\u001b[43m)\u001b[49m\u001b[43m)\u001b[49m\n",
      "File \u001b[1;32mc:\\Users\\ISHMO_CT\\.virtualenvs\\learn_neural-7s1zIBU3\\Lib\\site-packages\\sklearn\\model_selection\\_search.py:964\u001b[0m, in \u001b[0;36mBaseSearchCV.fit.<locals>.evaluate_candidates\u001b[1;34m(candidate_params, cv, more_results)\u001b[0m\n\u001b[0;32m    956\u001b[0m \u001b[38;5;28;01mif\u001b[39;00m \u001b[38;5;28mself\u001b[39m\u001b[38;5;241m.\u001b[39mverbose \u001b[38;5;241m>\u001b[39m \u001b[38;5;241m0\u001b[39m:\n\u001b[0;32m    957\u001b[0m     \u001b[38;5;28mprint\u001b[39m(\n\u001b[0;32m    958\u001b[0m         \u001b[38;5;124m\"\u001b[39m\u001b[38;5;124mFitting \u001b[39m\u001b[38;5;132;01m{0}\u001b[39;00m\u001b[38;5;124m folds for each of \u001b[39m\u001b[38;5;132;01m{1}\u001b[39;00m\u001b[38;5;124m candidates,\u001b[39m\u001b[38;5;124m\"\u001b[39m\n\u001b[0;32m    959\u001b[0m         \u001b[38;5;124m\"\u001b[39m\u001b[38;5;124m totalling \u001b[39m\u001b[38;5;132;01m{2}\u001b[39;00m\u001b[38;5;124m fits\u001b[39m\u001b[38;5;124m\"\u001b[39m\u001b[38;5;241m.\u001b[39mformat(\n\u001b[0;32m    960\u001b[0m             n_splits, n_candidates, n_candidates \u001b[38;5;241m*\u001b[39m n_splits\n\u001b[0;32m    961\u001b[0m         )\n\u001b[0;32m    962\u001b[0m     )\n\u001b[1;32m--> 964\u001b[0m out \u001b[38;5;241m=\u001b[39m \u001b[43mparallel\u001b[49m\u001b[43m(\u001b[49m\n\u001b[0;32m    965\u001b[0m \u001b[43m    \u001b[49m\u001b[43mdelayed\u001b[49m\u001b[43m(\u001b[49m\u001b[43m_fit_and_score\u001b[49m\u001b[43m)\u001b[49m\u001b[43m(\u001b[49m\n\u001b[0;32m    966\u001b[0m \u001b[43m        \u001b[49m\u001b[43mclone\u001b[49m\u001b[43m(\u001b[49m\u001b[43mbase_estimator\u001b[49m\u001b[43m)\u001b[49m\u001b[43m,\u001b[49m\n\u001b[0;32m    967\u001b[0m \u001b[43m        \u001b[49m\u001b[43mX\u001b[49m\u001b[43m,\u001b[49m\n\u001b[0;32m    968\u001b[0m \u001b[43m        \u001b[49m\u001b[43my\u001b[49m\u001b[43m,\u001b[49m\n\u001b[0;32m    969\u001b[0m \u001b[43m        \u001b[49m\u001b[43mtrain\u001b[49m\u001b[38;5;241;43m=\u001b[39;49m\u001b[43mtrain\u001b[49m\u001b[43m,\u001b[49m\n\u001b[0;32m    970\u001b[0m \u001b[43m        \u001b[49m\u001b[43mtest\u001b[49m\u001b[38;5;241;43m=\u001b[39;49m\u001b[43mtest\u001b[49m\u001b[43m,\u001b[49m\n\u001b[0;32m    971\u001b[0m \u001b[43m        \u001b[49m\u001b[43mparameters\u001b[49m\u001b[38;5;241;43m=\u001b[39;49m\u001b[43mparameters\u001b[49m\u001b[43m,\u001b[49m\n\u001b[0;32m    972\u001b[0m \u001b[43m        \u001b[49m\u001b[43msplit_progress\u001b[49m\u001b[38;5;241;43m=\u001b[39;49m\u001b[43m(\u001b[49m\u001b[43msplit_idx\u001b[49m\u001b[43m,\u001b[49m\u001b[43m \u001b[49m\u001b[43mn_splits\u001b[49m\u001b[43m)\u001b[49m\u001b[43m,\u001b[49m\n\u001b[0;32m    973\u001b[0m \u001b[43m        \u001b[49m\u001b[43mcandidate_progress\u001b[49m\u001b[38;5;241;43m=\u001b[39;49m\u001b[43m(\u001b[49m\u001b[43mcand_idx\u001b[49m\u001b[43m,\u001b[49m\u001b[43m \u001b[49m\u001b[43mn_candidates\u001b[49m\u001b[43m)\u001b[49m\u001b[43m,\u001b[49m\n\u001b[0;32m    974\u001b[0m \u001b[43m        \u001b[49m\u001b[38;5;241;43m*\u001b[39;49m\u001b[38;5;241;43m*\u001b[39;49m\u001b[43mfit_and_score_kwargs\u001b[49m\u001b[43m,\u001b[49m\n\u001b[0;32m    975\u001b[0m \u001b[43m    \u001b[49m\u001b[43m)\u001b[49m\n\u001b[0;32m    976\u001b[0m \u001b[43m    \u001b[49m\u001b[38;5;28;43;01mfor\u001b[39;49;00m\u001b[43m \u001b[49m\u001b[43m(\u001b[49m\u001b[43mcand_idx\u001b[49m\u001b[43m,\u001b[49m\u001b[43m \u001b[49m\u001b[43mparameters\u001b[49m\u001b[43m)\u001b[49m\u001b[43m,\u001b[49m\u001b[43m \u001b[49m\u001b[43m(\u001b[49m\u001b[43msplit_idx\u001b[49m\u001b[43m,\u001b[49m\u001b[43m \u001b[49m\u001b[43m(\u001b[49m\u001b[43mtrain\u001b[49m\u001b[43m,\u001b[49m\u001b[43m \u001b[49m\u001b[43mtest\u001b[49m\u001b[43m)\u001b[49m\u001b[43m)\u001b[49m\u001b[43m \u001b[49m\u001b[38;5;129;43;01min\u001b[39;49;00m\u001b[43m \u001b[49m\u001b[43mproduct\u001b[49m\u001b[43m(\u001b[49m\n\u001b[0;32m    977\u001b[0m \u001b[43m        \u001b[49m\u001b[38;5;28;43menumerate\u001b[39;49m\u001b[43m(\u001b[49m\u001b[43mcandidate_params\u001b[49m\u001b[43m)\u001b[49m\u001b[43m,\u001b[49m\n\u001b[0;32m    978\u001b[0m \u001b[43m        \u001b[49m\u001b[38;5;28;43menumerate\u001b[39;49m\u001b[43m(\u001b[49m\u001b[43mcv\u001b[49m\u001b[38;5;241;43m.\u001b[39;49m\u001b[43msplit\u001b[49m\u001b[43m(\u001b[49m\u001b[43mX\u001b[49m\u001b[43m,\u001b[49m\u001b[43m \u001b[49m\u001b[43my\u001b[49m\u001b[43m,\u001b[49m\u001b[43m \u001b[49m\u001b[38;5;241;43m*\u001b[39;49m\u001b[38;5;241;43m*\u001b[39;49m\u001b[43mrouted_params\u001b[49m\u001b[38;5;241;43m.\u001b[39;49m\u001b[43msplitter\u001b[49m\u001b[38;5;241;43m.\u001b[39;49m\u001b[43msplit\u001b[49m\u001b[43m)\u001b[49m\u001b[43m)\u001b[49m\u001b[43m,\u001b[49m\n\u001b[0;32m    979\u001b[0m \u001b[43m    \u001b[49m\u001b[43m)\u001b[49m\n\u001b[0;32m    980\u001b[0m \u001b[43m\u001b[49m\u001b[43m)\u001b[49m\n\u001b[0;32m    982\u001b[0m \u001b[38;5;28;01mif\u001b[39;00m \u001b[38;5;28mlen\u001b[39m(out) \u001b[38;5;241m<\u001b[39m \u001b[38;5;241m1\u001b[39m:\n\u001b[0;32m    983\u001b[0m     \u001b[38;5;28;01mraise\u001b[39;00m \u001b[38;5;167;01mValueError\u001b[39;00m(\n\u001b[0;32m    984\u001b[0m         \u001b[38;5;124m\"\u001b[39m\u001b[38;5;124mNo fits were performed. \u001b[39m\u001b[38;5;124m\"\u001b[39m\n\u001b[0;32m    985\u001b[0m         \u001b[38;5;124m\"\u001b[39m\u001b[38;5;124mWas the CV iterator empty? \u001b[39m\u001b[38;5;124m\"\u001b[39m\n\u001b[0;32m    986\u001b[0m         \u001b[38;5;124m\"\u001b[39m\u001b[38;5;124mWere there no candidates?\u001b[39m\u001b[38;5;124m\"\u001b[39m\n\u001b[0;32m    987\u001b[0m     )\n",
      "File \u001b[1;32mc:\\Users\\ISHMO_CT\\.virtualenvs\\learn_neural-7s1zIBU3\\Lib\\site-packages\\sklearn\\utils\\parallel.py:74\u001b[0m, in \u001b[0;36mParallel.__call__\u001b[1;34m(self, iterable)\u001b[0m\n\u001b[0;32m     69\u001b[0m config \u001b[38;5;241m=\u001b[39m get_config()\n\u001b[0;32m     70\u001b[0m iterable_with_config \u001b[38;5;241m=\u001b[39m (\n\u001b[0;32m     71\u001b[0m     (_with_config(delayed_func, config), args, kwargs)\n\u001b[0;32m     72\u001b[0m     \u001b[38;5;28;01mfor\u001b[39;00m delayed_func, args, kwargs \u001b[38;5;129;01min\u001b[39;00m iterable\n\u001b[0;32m     73\u001b[0m )\n\u001b[1;32m---> 74\u001b[0m \u001b[38;5;28;01mreturn\u001b[39;00m \u001b[38;5;28;43msuper\u001b[39;49m\u001b[43m(\u001b[49m\u001b[43m)\u001b[49m\u001b[38;5;241;43m.\u001b[39;49m\u001b[38;5;21;43m__call__\u001b[39;49m\u001b[43m(\u001b[49m\u001b[43miterable_with_config\u001b[49m\u001b[43m)\u001b[49m\n",
      "File \u001b[1;32mc:\\Users\\ISHMO_CT\\.virtualenvs\\learn_neural-7s1zIBU3\\Lib\\site-packages\\joblib\\parallel.py:2007\u001b[0m, in \u001b[0;36mParallel.__call__\u001b[1;34m(self, iterable)\u001b[0m\n\u001b[0;32m   2001\u001b[0m \u001b[38;5;66;03m# The first item from the output is blank, but it makes the interpreter\u001b[39;00m\n\u001b[0;32m   2002\u001b[0m \u001b[38;5;66;03m# progress until it enters the Try/Except block of the generator and\u001b[39;00m\n\u001b[0;32m   2003\u001b[0m \u001b[38;5;66;03m# reaches the first `yield` statement. This starts the asynchronous\u001b[39;00m\n\u001b[0;32m   2004\u001b[0m \u001b[38;5;66;03m# dispatch of the tasks to the workers.\u001b[39;00m\n\u001b[0;32m   2005\u001b[0m \u001b[38;5;28mnext\u001b[39m(output)\n\u001b[1;32m-> 2007\u001b[0m \u001b[38;5;28;01mreturn\u001b[39;00m output \u001b[38;5;28;01mif\u001b[39;00m \u001b[38;5;28mself\u001b[39m\u001b[38;5;241m.\u001b[39mreturn_generator \u001b[38;5;28;01melse\u001b[39;00m \u001b[38;5;28mlist\u001b[39m(output)\n",
      "File \u001b[1;32mc:\\Users\\ISHMO_CT\\.virtualenvs\\learn_neural-7s1zIBU3\\Lib\\site-packages\\joblib\\parallel.py:1650\u001b[0m, in \u001b[0;36mParallel._get_outputs\u001b[1;34m(self, iterator, pre_dispatch)\u001b[0m\n\u001b[0;32m   1647\u001b[0m     \u001b[38;5;28;01myield\u001b[39;00m\n\u001b[0;32m   1649\u001b[0m     \u001b[38;5;28;01mwith\u001b[39;00m \u001b[38;5;28mself\u001b[39m\u001b[38;5;241m.\u001b[39m_backend\u001b[38;5;241m.\u001b[39mretrieval_context():\n\u001b[1;32m-> 1650\u001b[0m         \u001b[38;5;28;01myield from\u001b[39;00m \u001b[38;5;28mself\u001b[39m\u001b[38;5;241m.\u001b[39m_retrieve()\n\u001b[0;32m   1652\u001b[0m \u001b[38;5;28;01mexcept\u001b[39;00m \u001b[38;5;167;01mGeneratorExit\u001b[39;00m:\n\u001b[0;32m   1653\u001b[0m     \u001b[38;5;66;03m# The generator has been garbage collected before being fully\u001b[39;00m\n\u001b[0;32m   1654\u001b[0m     \u001b[38;5;66;03m# consumed. This aborts the remaining tasks if possible and warn\u001b[39;00m\n\u001b[0;32m   1655\u001b[0m     \u001b[38;5;66;03m# the user if necessary.\u001b[39;00m\n\u001b[0;32m   1656\u001b[0m     \u001b[38;5;28mself\u001b[39m\u001b[38;5;241m.\u001b[39m_exception \u001b[38;5;241m=\u001b[39m \u001b[38;5;28;01mTrue\u001b[39;00m\n",
      "File \u001b[1;32mc:\\Users\\ISHMO_CT\\.virtualenvs\\learn_neural-7s1zIBU3\\Lib\\site-packages\\joblib\\parallel.py:1754\u001b[0m, in \u001b[0;36mParallel._retrieve\u001b[1;34m(self)\u001b[0m\n\u001b[0;32m   1747\u001b[0m \u001b[38;5;28;01mwhile\u001b[39;00m \u001b[38;5;28mself\u001b[39m\u001b[38;5;241m.\u001b[39m_wait_retrieval():\n\u001b[0;32m   1748\u001b[0m \n\u001b[0;32m   1749\u001b[0m     \u001b[38;5;66;03m# If the callback thread of a worker has signaled that its task\u001b[39;00m\n\u001b[0;32m   1750\u001b[0m     \u001b[38;5;66;03m# triggered an exception, or if the retrieval loop has raised an\u001b[39;00m\n\u001b[0;32m   1751\u001b[0m     \u001b[38;5;66;03m# exception (e.g. `GeneratorExit`), exit the loop and surface the\u001b[39;00m\n\u001b[0;32m   1752\u001b[0m     \u001b[38;5;66;03m# worker traceback.\u001b[39;00m\n\u001b[0;32m   1753\u001b[0m     \u001b[38;5;28;01mif\u001b[39;00m \u001b[38;5;28mself\u001b[39m\u001b[38;5;241m.\u001b[39m_aborting:\n\u001b[1;32m-> 1754\u001b[0m         \u001b[38;5;28;43mself\u001b[39;49m\u001b[38;5;241;43m.\u001b[39;49m\u001b[43m_raise_error_fast\u001b[49m\u001b[43m(\u001b[49m\u001b[43m)\u001b[49m\n\u001b[0;32m   1755\u001b[0m         \u001b[38;5;28;01mbreak\u001b[39;00m\n\u001b[0;32m   1757\u001b[0m     \u001b[38;5;66;03m# If the next job is not ready for retrieval yet, we just wait for\u001b[39;00m\n\u001b[0;32m   1758\u001b[0m     \u001b[38;5;66;03m# async callbacks to progress.\u001b[39;00m\n",
      "File \u001b[1;32mc:\\Users\\ISHMO_CT\\.virtualenvs\\learn_neural-7s1zIBU3\\Lib\\site-packages\\joblib\\parallel.py:1789\u001b[0m, in \u001b[0;36mParallel._raise_error_fast\u001b[1;34m(self)\u001b[0m\n\u001b[0;32m   1785\u001b[0m \u001b[38;5;66;03m# If this error job exists, immediately raise the error by\u001b[39;00m\n\u001b[0;32m   1786\u001b[0m \u001b[38;5;66;03m# calling get_result. This job might not exists if abort has been\u001b[39;00m\n\u001b[0;32m   1787\u001b[0m \u001b[38;5;66;03m# called directly or if the generator is gc'ed.\u001b[39;00m\n\u001b[0;32m   1788\u001b[0m \u001b[38;5;28;01mif\u001b[39;00m error_job \u001b[38;5;129;01mis\u001b[39;00m \u001b[38;5;129;01mnot\u001b[39;00m \u001b[38;5;28;01mNone\u001b[39;00m:\n\u001b[1;32m-> 1789\u001b[0m     \u001b[43merror_job\u001b[49m\u001b[38;5;241;43m.\u001b[39;49m\u001b[43mget_result\u001b[49m\u001b[43m(\u001b[49m\u001b[38;5;28;43mself\u001b[39;49m\u001b[38;5;241;43m.\u001b[39;49m\u001b[43mtimeout\u001b[49m\u001b[43m)\u001b[49m\n",
      "File \u001b[1;32mc:\\Users\\ISHMO_CT\\.virtualenvs\\learn_neural-7s1zIBU3\\Lib\\site-packages\\joblib\\parallel.py:745\u001b[0m, in \u001b[0;36mBatchCompletionCallBack.get_result\u001b[1;34m(self, timeout)\u001b[0m\n\u001b[0;32m    739\u001b[0m backend \u001b[38;5;241m=\u001b[39m \u001b[38;5;28mself\u001b[39m\u001b[38;5;241m.\u001b[39mparallel\u001b[38;5;241m.\u001b[39m_backend\n\u001b[0;32m    741\u001b[0m \u001b[38;5;28;01mif\u001b[39;00m backend\u001b[38;5;241m.\u001b[39msupports_retrieve_callback:\n\u001b[0;32m    742\u001b[0m     \u001b[38;5;66;03m# We assume that the result has already been retrieved by the\u001b[39;00m\n\u001b[0;32m    743\u001b[0m     \u001b[38;5;66;03m# callback thread, and is stored internally. It's just waiting to\u001b[39;00m\n\u001b[0;32m    744\u001b[0m     \u001b[38;5;66;03m# be returned.\u001b[39;00m\n\u001b[1;32m--> 745\u001b[0m     \u001b[38;5;28;01mreturn\u001b[39;00m \u001b[38;5;28;43mself\u001b[39;49m\u001b[38;5;241;43m.\u001b[39;49m\u001b[43m_return_or_raise\u001b[49m\u001b[43m(\u001b[49m\u001b[43m)\u001b[49m\n\u001b[0;32m    747\u001b[0m \u001b[38;5;66;03m# For other backends, the main thread needs to run the retrieval step.\u001b[39;00m\n\u001b[0;32m    748\u001b[0m \u001b[38;5;28;01mtry\u001b[39;00m:\n",
      "File \u001b[1;32mc:\\Users\\ISHMO_CT\\.virtualenvs\\learn_neural-7s1zIBU3\\Lib\\site-packages\\joblib\\parallel.py:763\u001b[0m, in \u001b[0;36mBatchCompletionCallBack._return_or_raise\u001b[1;34m(self)\u001b[0m\n\u001b[0;32m    761\u001b[0m \u001b[38;5;28;01mtry\u001b[39;00m:\n\u001b[0;32m    762\u001b[0m     \u001b[38;5;28;01mif\u001b[39;00m \u001b[38;5;28mself\u001b[39m\u001b[38;5;241m.\u001b[39mstatus \u001b[38;5;241m==\u001b[39m TASK_ERROR:\n\u001b[1;32m--> 763\u001b[0m         \u001b[38;5;28;01mraise\u001b[39;00m \u001b[38;5;28mself\u001b[39m\u001b[38;5;241m.\u001b[39m_result\n\u001b[0;32m    764\u001b[0m     \u001b[38;5;28;01mreturn\u001b[39;00m \u001b[38;5;28mself\u001b[39m\u001b[38;5;241m.\u001b[39m_result\n\u001b[0;32m    765\u001b[0m \u001b[38;5;28;01mfinally\u001b[39;00m:\n",
      "\u001b[1;31mValueError\u001b[0m: Invalid parameter maxnorm_wc for estimator KerasClassifier.\nThis issue can likely be resolved by setting this parameter in the KerasClassifier constructor:\n`KerasClassifier(maxnorm_wc=0.5)`\nCheck the list of available parameters with `estimator.get_params().keys()`"
     ]
    }
   ],
   "source": [
    "start=time()\n",
    "# Create and run Grid Search\n",
    "grid = GridSearchCV(estimator=model, \n",
    "                    param_grid=hyper_parameters, \n",
    "                    n_jobs=-2, \n",
    "                    verbose=1)\n",
    "\n",
    "grid_result = grid.fit(X_train, y_train)\n",
    "end=time()"
   ]
  },
  {
   "cell_type": "code",
   "execution_count": null,
   "metadata": {
    "id": "pslQN3T-BfGh"
   },
   "outputs": [],
   "source": [
    "print(\"Gridsearch runtime {0:.3} mins\".format( (end-start)/60 ))"
   ]
  },
  {
   "cell_type": "code",
   "execution_count": null,
   "metadata": {
    "id": "cxaAl3cvBfGh"
   },
   "outputs": [],
   "source": [
    "# use the mean accuracy from the CV splits for determining best model score \n",
    "means = grid.cv_results_['mean_test_score']\n",
    "stds = grid.cv_results_['std_test_score']\n",
    "params = grid.cv_results_['params']\n",
    "\n",
    "# move l2 penalty values outside of dictionary and into a list\n",
    "param_values = [param_dict[\"maxnorm_wc\"] for param_dict in params]\n",
    "\n",
    "# plot accuracy vs l2_reg_penalty\n",
    "plt.figure(figsize=(20,6))\n",
    "plt.grid()\n",
    "plt.errorbar(param_values, means, yerr=stds, ecolor=\"orange\")\n",
    "plt.title(\"MaxNorm weight constraint: Model Accuracy vs MaxNorm\")\n",
    "plt.ylabel(\"Validation Accuracy\", )\n",
    "plt.xlabel(\"Max Norm for Weight Vector \");"
   ]
  },
  {
   "cell_type": "code",
   "execution_count": null,
   "metadata": {
    "deletable": false,
    "id": "D3aeaN_NBfGi",
    "nbgrader": {
     "cell_type": "code",
     "checksum": "cfe7bd54a7a14ba7ee63c88d6d1828b4",
     "grade": false,
     "grade_id": "cell-f67372e0b9b30614",
     "locked": false,
     "schema_version": 3,
     "solution": true,
     "task": false
    }
   },
   "outputs": [],
   "source": [
    "# get the best value of max norm from grid and save to best_max_norm_val\n",
    "\n",
    "# get the best trained model from grid and save to best_model\n",
    "\n",
    "# get the weights from the best trained model and save to best_weights\n",
    "\n",
    "# YOUR CODE HERE\n",
    "\n",
    "# Assuming worse_max_norm_val is defined\n",
    "worse_max_norm_val = 3.0  # Replace with the actual value\n",
    "\n",
    "# Build the worst performing model\n",
    "worse_model = build_complex_model(max_norm_val=worse_max_norm_val)\n",
    "\n",
    "# Fit the model\n",
    "# Assuming X_train and y_train are your training data\n",
    "history = worse_model.fit(X_train, y_train, epochs=10, batch_size=32, validation_split=0.2)\n",
    "\n",
    "# Save the worst performing model\n",
    "worse_model.save('worse_model.h5')\n"
   ]
  },
  {
   "cell_type": "code",
   "execution_count": null,
   "metadata": {
    "id": "udo9kxwWBfGi"
   },
   "outputs": [],
   "source": [
    "best_max_norm_val = 3.0"
   ]
  },
  {
   "cell_type": "code",
   "execution_count": null,
   "metadata": {
    "id": "aYdmRUJSBfGi"
   },
   "outputs": [],
   "source": [
    "# we can verify that the norm of our weights are indeed below the maximum allowed value \n",
    "np.linalg.norm(best_weights[0][0])"
   ]
  },
  {
   "cell_type": "code",
   "execution_count": null,
   "metadata": {
    "deletable": false,
    "id": "3ew76uwZBfGi",
    "nbgrader": {
     "cell_type": "code",
     "checksum": "67f65bd636e3b3b3bc7d20c02ba6b666",
     "grade": false,
     "grade_id": "cell-e752c1a8c853985d",
     "locked": false,
     "schema_version": 3,
     "solution": true,
     "task": false
    }
   },
   "outputs": [],
   "source": [
    "# train a model using the max_norm_val value that scored the lowest \n",
    "\n",
    "# build a model using build_complex_model and worse_max_norm_val and save it to worse_model\n",
    "\n",
    "# fit model \n",
    "\n",
    "# get weights from worse performing model \n",
    "\n",
    "\n",
    "# YOUR CODE HERE\n",
    "# raise NotImplementedError() \n",
    "def build_complex_model(max_norm_val=3.0, input_shape=(784,), num_classes=10):\n",
    "    model = tf.keras.Sequential([\n",
    "        tf.keras.layers.Dense(512, input_shape=input_shape, activation='relu', kernel_constraint=MaxNorm(max_norm_val)),\n",
    "        tf.keras.layers.Dropout(0.5),\n",
    "        tf.keras.layers.Dense(512, activation='relu', kernel_constraint=MaxNorm(max_norm_val)),\n",
    "        tf.keras.layers.Dropout(0.5),\n",
    "        tf.keras.layers.Dense(num_classes, activation='softmax')\n",
    "    ])\n",
    "    model.compile(optimizer='adam', loss='categorical_crossentropy', metrics=['accuracy'])\n",
    "    return model"
   ]
  },
  {
   "cell_type": "markdown",
   "metadata": {
    "id": "GgVx0Yg-7OwJ"
   },
   "source": [
    "Sample the initial weights from the `Glorot Uniform Weight Initializer`, for comparison"
   ]
  },
  {
   "cell_type": "code",
   "execution_count": null,
   "metadata": {
    "deletable": false,
    "id": "DEx3m9vVBfGj",
    "nbgrader": {
     "cell_type": "code",
     "checksum": "a38d5d4db707124b31a662fb4743b049",
     "grade": false,
     "grade_id": "cell-5c1aa4543e68487d",
     "locked": false,
     "schema_version": 3,
     "solution": true,
     "task": false
    }
   },
   "outputs": [],
   "source": [
    "# index for the 1st hidden layer weights in best_weights and save to best_hidden_weights\n",
    "\n",
    "# index for the 1st hidden layer weights in worse_weights and save to worse_hidden_weights\n",
    "\n",
    "# Keras models randomly samples from the GlorotUniform distribution for the initial values of model weights \n",
    "\n",
    "# instantiate GlorotUniform and sample 500 weights and save to initial_weight_values\n",
    "# hint: use shape=(1, 500)\n",
    "\n",
    "\n",
    "# YOUR CODE HERE\n",
    "# raise NotImplementedError() \n",
    "def get_first_hidden_layer_weights(model, layer_name):\n",
    "    layer = model.get_layer(layer_name)\n",
    "    weights = layer.get_weights()[0]\n",
    "    return weights\n",
    "\n",
    "# Get the weights for the first hidden layer (assuming the layer name is 'dense_1')\n",
    "layer_name = 'dense_1'  # Replace with actual layer name if different\n",
    "\n",
    "best_hidden_weights = get_first_hidden_layer_weights(best_model, layer_name)\n",
    "worse_hidden_weights = get_first_hidden_layer_weights(worse_model, layer_name)\n",
    "\n",
    "# Extract the weights for the 1st hidden layer\n",
    "best_hidden_weights = best_hidden_weights[:, 0]\n",
    "worse_hidden_weights = worse_hidden_weights[:, 0]\n",
    "# Initialize GlorotUniform and sample initial weights\n",
    "glorot_uniform = tf.keras.initializers.GlorotUniform()\n",
    "initial_weight_values = glorot_uniform(shape=(1, 500)).numpy().flatten()"
   ]
  },
  {
   "cell_type": "code",
   "execution_count": null,
   "metadata": {
    "id": "Ck8kH2LeBfGk"
   },
   "outputs": [],
   "source": [
    "# move all weights to a dataframe for ease of analysis \n",
    "cols = [\"best_hidden_weights\", \"worse_hidden_weights\", \"initial_weight_values\"]\n",
    "data = [best_hidden_weights, worse_hidden_weights, initial_weight_values]\n",
    "df_maxnorm= pd.DataFrame(data=data).T\n",
    "df_maxnorm.columns = cols"
   ]
  },
  {
   "cell_type": "code",
   "execution_count": null,
   "metadata": {
    "id": "jiT661fNBfGk"
   },
   "outputs": [],
   "source": [
    "df_maxnorm.describe()"
   ]
  },
  {
   "cell_type": "code",
   "execution_count": null,
   "metadata": {
    "id": "N6HmKEFHBfGl"
   },
   "outputs": [],
   "source": [
    "# plot the distributions for each weight column \n",
    "df_maxnorm.hist(figsize=(20,12));"
   ]
  },
  {
   "cell_type": "markdown",
   "metadata": {
    "id": "GJLb71QuBfGm"
   },
   "source": [
    "## Observations \n",
    "\n",
    "Take a look at the statistical table and the plots. Then answer the following questions. \n",
    "\n",
    "**How do the hidden layer weights from the best performing model compare to the initial weight values?**"
   ]
  },
  {
   "cell_type": "markdown",
   "metadata": {
    "deletable": false,
    "id": "9Ow24epzBfGm",
    "nbgrader": {
     "cell_type": "markdown",
     "checksum": "f43fe1110cdcea8d1e4b432fe78d4e49",
     "grade": true,
     "grade_id": "cell-40a44d19694941b8",
     "locked": false,
     "points": 0,
     "schema_version": 3,
     "solution": true,
     "task": false
    }
   },
   "source": [
    "YOUR ANSWER HERE"
   ]
  },
  {
   "cell_type": "markdown",
   "metadata": {
    "id": "1C-q89taBfGm"
   },
   "source": [
    "**What was the effect of using the weight constraint value in MaxNorm in the best performing model?**"
   ]
  },
  {
   "cell_type": "markdown",
   "metadata": {
    "deletable": false,
    "id": "JEnRcaxEBfGm",
    "nbgrader": {
     "cell_type": "markdown",
     "checksum": "b1c59c58a5abdbc0b509983821198dba",
     "grade": true,
     "grade_id": "cell-4f9e1e134124e512",
     "locked": false,
     "points": 0,
     "schema_version": 3,
     "solution": true,
     "task": false
    }
   },
   "source": [
    "YOUR ANSWER HERE"
   ]
  },
  {
   "cell_type": "markdown",
   "metadata": {
    "id": "LY9joSwUBfGn"
   },
   "source": [
    "**What was the effect of using the weight constraint value in MaxNorm in the worse performing model?**"
   ]
  },
  {
   "cell_type": "markdown",
   "metadata": {
    "deletable": false,
    "id": "8_Pw4Jb1BfGn",
    "nbgrader": {
     "cell_type": "markdown",
     "checksum": "0062b4ddfad487c39633c37f4710b752",
     "grade": true,
     "grade_id": "cell-4c289ce70c34048a",
     "locked": false,
     "points": 0,
     "schema_version": 3,
     "solution": true,
     "task": false
    }
   },
   "source": [
    "YOUR ANSWER HERE"
   ]
  },
  {
   "cell_type": "markdown",
   "metadata": {
    "id": "fWmTydgiBfGn"
   },
   "source": [
    "**Given what you know about MaxNorm regularization, are you surprised by these results?**"
   ]
  },
  {
   "cell_type": "markdown",
   "metadata": {
    "deletable": false,
    "id": "EiAQlNHuBfGn",
    "nbgrader": {
     "cell_type": "markdown",
     "checksum": "3c36931d3532a8cbcb4ea0c956378728",
     "grade": true,
     "grade_id": "cell-77366a912217da5d",
     "locked": false,
     "points": 0,
     "schema_version": 3,
     "solution": true,
     "task": false
    }
   },
   "source": [
    "YOUR ANSWER HERE"
   ]
  },
  {
   "cell_type": "markdown",
   "metadata": {
    "id": "l_INtS2vBfGn"
   },
   "source": [
    "-----\n",
    "# Experiment 3: Identify the relationship between model performance and Dropout\n",
    "\n",
    "\n",
    "![](https://miro.medium.com/max/981/1*EinUlWw1n8vbcLyT0zx4gw.png)\n",
    "\n",
    "In the 3rd experiment, we will use gridsearch to see how varying the value of the the dropout probability affects model performance. \n",
    "\n",
    "Recall from lecture that dropout tends to perform best when used with `MaxNorm` regularization. Since this is the case, we will gridsearch both dropout probability and the weight constraint for `MaxNorm`. \n",
    "\n",
    "If interested, feel free to read (or just skim) through the original publication on [**Drop Out**](https://jmlr.org/papers/volume15/srivastava14a.old/srivastava14a.pdf). \n",
    "\n",
    "**Key Take aways:** \n",
    "\n",
    "1. During training, dropout will probabilistically \"turn off\" some neurons in the layer that dropout is implemented in. \n",
    "2. During inference (ie. making predictions on the test set) all neurons are used (i.e. no dropout is applied).\n",
    "3. Dropout works best when used with MaxNorm\n"
   ]
  },
  {
   "cell_type": "code",
   "execution_count": null,
   "metadata": {
    "id": "ce81CswWlP1N"
   },
   "outputs": [],
   "source": [
    "# build out our hyperparameter dictionary \n",
    "hyper_parameters = {\n",
    "    # for the sake of runtime, let's vary maxnorm_wc between 0.5 and 5.0\n",
    "    \"maxnorm_wc\": np.linspace(0.5, 5, num=5),\n",
    "    # take note that l1_reg_penalty values are in powers of 10 \n",
    "    \"dropout_prob\": np.linspace(0.0, 0.6, num=5), \n",
    "    \"epochs\": [1] # default is 1, in order to change it we must provide value here because we can provide a parameter value for model.fit() directly when using gridsearch\n",
    "}\n",
    "\n",
    "hyper_parameters"
   ]
  },
  {
   "cell_type": "code",
   "execution_count": null,
   "metadata": {
    "id": "6CN5X-D2lTS4"
   },
   "outputs": [],
   "source": [
    "start=time()\n",
    "# Create and run Grid Search\n",
    "grid = GridSearchCV(estimator=model, \n",
    "                    param_grid=hyper_parameters, \n",
    "                    n_jobs=-2, \n",
    "                    verbose=1, \n",
    "                    cv=3)\n",
    "\n",
    "grid_result = grid.fit(X_train, y_train)\n",
    "end=time()"
   ]
  },
  {
   "cell_type": "code",
   "execution_count": null,
   "metadata": {
    "id": "Vg4ifWNtBfGo"
   },
   "outputs": [],
   "source": [
    "print(\"Gridsearch runtime {0:.3} mins\".format( (end-start)/60 ))"
   ]
  },
  {
   "cell_type": "code",
   "execution_count": null,
   "metadata": {
    "id": "CqO15wkmBfGo"
   },
   "outputs": [],
   "source": [
    "# use the mean accuracy from the CV splits for determining best model score \n",
    "means = grid.cv_results_['mean_test_score']\n",
    "stds = grid.cv_results_['std_test_score']\n",
    "params = grid.cv_results_['params']"
   ]
  },
  {
   "cell_type": "markdown",
   "metadata": {
    "id": "2-v92GwGBfGo"
   },
   "source": [
    "Since there are 2 independent hyperparameters which affect the validation accuracy (`dropout_prob` and `maxnorm_wc`), <br> \n",
    "we need a two-dimensional plot. A heat map will work. "
   ]
  },
  {
   "cell_type": "code",
   "execution_count": null,
   "metadata": {
    "id": "I-W5UmNcBfGp"
   },
   "outputs": [],
   "source": [
    "dropout_prob_list = [  param_dict[\"dropout_prob\"]  for param_dict in params]\n",
    "maxnorm_wc_list = [  param_dict[\"maxnorm_wc\"]  for param_dict in params]\n",
    "data = [means, dropout_prob_list, maxnorm_wc_list ]\n",
    "\n",
    "cols = [\"val_acc\", \"dropout_prob\", \"maxnorm_wc\"]\n",
    "df_exp3 =pd.DataFrame(data=data).T\n",
    "df_exp3.columns = cols\n",
    "df_exp3.dropout_prob = df_exp3.dropout_prob.round(2)\n",
    "\n",
    "# pivot dataframe in preparation for heat map\n",
    "df_exp3 = df_exp3.pivot(\"maxnorm_wc\", \"dropout_prob\", \"val_acc\")"
   ]
  },
  {
   "cell_type": "code",
   "execution_count": null,
   "metadata": {
    "id": "FqilXbTYBfGp"
   },
   "outputs": [],
   "source": [
    "# Draw a heatmap with the val_acc values in each cell\n",
    "f, ax = plt.subplots(figsize=(18, 8))\n",
    "sns.heatmap(df_exp3, annot=True,  linewidths=.5, ax=ax);"
   ]
  },
  {
   "cell_type": "markdown",
   "metadata": {
    "id": "9dTgA0LEBfGp"
   },
   "source": [
    "### Observations \n",
    "\n",
    "We can see the dropout probabilities in the horizontal axis and the `MaxNorm` weight constraint values in the vertical axis. The values in the cells are the validation accuracy that corresponds to a pair of regularization values.\n",
    "\n",
    "Take a look at the heat map and answer the following questions. Note that depending on which model you used (the simple or complex one) your answers might be different from that of others. "
   ]
  },
  {
   "cell_type": "markdown",
   "metadata": {
    "id": "uz1meXeiBfGp"
   },
   "source": [
    "**What range of dropout probability values tend to produce the highest validation accuracy?**"
   ]
  },
  {
   "cell_type": "markdown",
   "metadata": {
    "deletable": false,
    "id": "xjxa3AaoBfGp",
    "nbgrader": {
     "cell_type": "markdown",
     "checksum": "0f0013d4e07104a03b4d51664a308f53",
     "grade": true,
     "grade_id": "cell-4e0cb7a9240b1531",
     "locked": false,
     "points": 0,
     "schema_version": 3,
     "solution": true,
     "task": false
    }
   },
   "source": [
    "YOUR ANSWER HERE"
   ]
  },
  {
   "cell_type": "markdown",
   "metadata": {
    "id": "yiha7_G-BfGp"
   },
   "source": [
    "**What range of maxnorm weight constraints tend to produce the highest validation accuracy?**"
   ]
  },
  {
   "cell_type": "markdown",
   "metadata": {
    "deletable": false,
    "id": "ftoVpYqIBfGp",
    "nbgrader": {
     "cell_type": "markdown",
     "checksum": "9fd88f0bb870a910b925d60b38d17694",
     "grade": true,
     "grade_id": "cell-99539755d7d328f7",
     "locked": false,
     "points": 0,
     "schema_version": 3,
     "solution": true,
     "task": false
    }
   },
   "source": [
    "YOUR ANSWER HERE"
   ]
  },
  {
   "cell_type": "markdown",
   "metadata": {
    "id": "4M7ZARjJBfGp"
   },
   "source": [
    "**When taken together, what combinations of dropout probability and maxnorm weight constraints tend to produce the highest validation accuracy?**"
   ]
  },
  {
   "cell_type": "markdown",
   "metadata": {
    "deletable": false,
    "id": "rakqIiHNBfGq",
    "nbgrader": {
     "cell_type": "markdown",
     "checksum": "fee1e09ed8f6d354bd7b6e2986c2b811",
     "grade": true,
     "grade_id": "cell-5e19a56b4a2d975d",
     "locked": false,
     "points": 0,
     "schema_version": 3,
     "solution": true,
     "task": false
    }
   },
   "source": [
    "YOUR ANSWER HERE"
   ]
  },
  {
   "cell_type": "markdown",
   "metadata": {
    "id": "VnwcQRx3BfGr"
   },
   "source": [
    "**Do you think that using dropout was helpful in increasing model performance?**"
   ]
  },
  {
   "cell_type": "markdown",
   "metadata": {
    "deletable": false,
    "id": "mtdlzA8WBfGr",
    "nbgrader": {
     "cell_type": "markdown",
     "checksum": "de9c1bcff3c5eb6266cc80632d0956f0",
     "grade": true,
     "grade_id": "cell-d2a2f7b284c801dc",
     "locked": false,
     "points": 0,
     "schema_version": 3,
     "solution": true,
     "task": false
    }
   },
   "source": [
    "YOUR ANSWER HERE"
   ]
  },
  {
   "cell_type": "markdown",
   "metadata": {
    "id": "r3qKJpF_BfGs"
   },
   "source": [
    "_____\n",
    "\n",
    "#Part 2: Model Deployment\n",
    "# Experiment 4: Train, Save, and Load a Keras model\n",
    "\n",
    "Let's get some practice with how to save and load trained Keras models \n",
    "\n",
    "For this experiment, review the section on Saving and Loading models from the guided project, then: \n",
    "\n",
    "- Build a model of your choosing\n",
    "- Gridsearch the model with a method of your choosing\n",
    "- Save the trained model to a file\n",
    "- Load the trained model from the file\n",
    "- Just as we did in the Guided Project, evaluate the loaded model using a test set and verify that the results of the loaded model match that of the original model that was saved."
   ]
  },
  {
   "cell_type": "code",
   "execution_count": 9,
   "metadata": {
    "id": "aki0LkDpBfGs"
   },
   "outputs": [],
   "source": [
    "# YOUR CODE HERE\n",
    "\n",
    "(X_train, y_train), (X_test, y_test) = tf.keras.datasets.mnist.load_data()\n",
    "X_train, X_test = X_train / 255.0, X_test / 255.0\n",
    "\n",
    "# Function to build the model\n",
    "def build_model(optimizer='adam', neurons=32):\n",
    "    model = tf.keras.models.Sequential([\n",
    "        tf.keras.layers.Flatten(input_shape=(28, 28)),\n",
    "        tf.keras.layers.Dense(neurons, activation='relu'),\n",
    "        tf.keras.layers.Dense(10, activation='softmax')\n",
    "    ])\n",
    "    model.compile(optimizer=optimizer, loss='sparse_categorical_crossentropy', metrics=['accuracy'])\n",
    "    return model\n",
    "\n",
    "# Wrap Keras model for use in scikit-learn\n"
   ]
  },
  {
   "cell_type": "code",
   "execution_count": 10,
   "metadata": {},
   "outputs": [
    {
     "name": "stderr",
     "output_type": "stream",
     "text": [
      "c:\\Users\\ISHMO_CT\\.virtualenvs\\learn_neural-7s1zIBU3\\Lib\\site-packages\\scikeras\\wrappers.py:925: UserWarning: ``build_fn`` will be renamed to ``model`` in a future release, at which point use of ``build_fn`` will raise an Error instead.\n",
      "  X, y = self._initialize(X, y)\n",
      "c:\\Users\\ISHMO_CT\\.virtualenvs\\learn_neural-7s1zIBU3\\Lib\\site-packages\\keras\\src\\layers\\reshaping\\flatten.py:37: UserWarning: Do not pass an `input_shape`/`input_dim` argument to a layer. When using Sequential models, prefer using an `Input(shape)` object as the first layer in the model instead.\n",
      "  super().__init__(**kwargs)\n"
     ]
    },
    {
     "name": "stdout",
     "output_type": "stream",
     "text": [
      "Best: 0.9693666666666667 using {'neurons': 64, 'optimizer': 'sgd'}\n"
     ]
    }
   ],
   "source": [
    "model = KerasClassifier(build_fn=build_model, epochs=10, batch_size=32, verbose=0, neurons=32)\n",
    "\n",
    "# Define grid search parameters\n",
    "param_grid = {\n",
    "    'optimizer': ['adam', 'sgd'],\n",
    "    'neurons': [32, 64]\n",
    "}\n",
    "\n",
    "# Create GridSearchCV\n",
    "grid = GridSearchCV(estimator=model, param_grid=param_grid, n_jobs=-1, cv=3)\n",
    "grid_result = grid.fit(X_train, y_train)\n",
    "\n",
    "# Print best parameters and score\n",
    "print(f\"Best: {grid_result.best_score_} using {grid_result.best_params_}\")"
   ]
  },
  {
   "cell_type": "code",
   "execution_count": 13,
   "metadata": {},
   "outputs": [],
   "source": [
    "best_model = grid_result.best_estimator_.model\n"
   ]
  },
  {
   "cell_type": "code",
   "execution_count": 15,
   "metadata": {},
   "outputs": [],
   "source": [
    "# Save the best model\n",
    "# best_model.save('best_model_mnist.h5')\n"
   ]
  },
  {
   "cell_type": "code",
   "execution_count": 16,
   "metadata": {},
   "outputs": [],
   "source": [
    "# Load the saved model\n",
    "# loaded_model = tf.keras.models.load_model('best_model_mnist.h5')\n"
   ]
  },
  {
   "cell_type": "code",
   "execution_count": null,
   "metadata": {},
   "outputs": [],
   "source": [
    "# Evaluate the original model\n",
    "original_score = best_model.evaluate(X_test, y_test, verbose=0)\n",
    "\n",
    "# Evaluate the loaded model\n",
    "loaded_score = loaded_model.evaluate(X_test, y_test, verbose=0)\n",
    "\n",
    "print(f\"Original model accuracy: {original_score[1]}\")\n",
    "print(f\"Loaded model accuracy: {loaded_score[1]}\")\n",
    "\n",
    "# Verify that the results match\n",
    "assert original_score[1] == loaded_score[1], \"Loaded model accuracy does not match the original model accuracy!\"\n",
    "print(\"The loaded model's accuracy matches the original model's accuracy.\")\n"
   ]
  }
 ],
 "metadata": {
  "accelerator": "GPU",
  "colab": {
   "collapsed_sections": [],
   "name": "DS_424_Deploy_Assignment.ipynb",
   "provenance": []
  },
  "kernelspec": {
   "display_name": "Python 3",
   "language": "python",
   "name": "python3"
  },
  "language_info": {
   "codemirror_mode": {
    "name": "ipython",
    "version": 3
   },
   "file_extension": ".py",
   "mimetype": "text/x-python",
   "name": "python",
   "nbconvert_exporter": "python",
   "pygments_lexer": "ipython3",
   "version": "3.11.5"
  },
  "nteract": {
   "version": "0.22.4"
  }
 },
 "nbformat": 4,
 "nbformat_minor": 0
}
